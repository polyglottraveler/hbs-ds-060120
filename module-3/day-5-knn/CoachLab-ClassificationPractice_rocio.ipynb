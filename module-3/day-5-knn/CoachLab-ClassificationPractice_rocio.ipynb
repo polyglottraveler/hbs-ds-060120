{
 "cells": [
  {
   "cell_type": "markdown",
   "metadata": {},
   "source": [
    "# Classification Practice"
   ]
  },
  {
   "cell_type": "code",
   "execution_count": 1,
   "metadata": {},
   "outputs": [],
   "source": [
    "# Imports\n",
    "import pandas as pd\n",
    "import numpy as np\n",
    "\n",
    "import matplotlib.pyplot as plt\n",
    "import seaborn as sns\n",
    "\n",
    "from sklearn.preprocessing import StandardScaler, MinMaxScaler, RobustScaler\n",
    "from sklearn.model_selection import train_test_split\n",
    "\n",
    "from sklearn.metrics import plot_confusion_matrix\n",
    "from sklearn.metrics import accuracy_score, precision_score, recall_score, f1_score\n",
    "\n",
    "from sklearn.linear_model import LogisticRegression\n",
    "from sklearn.neighbors import KNeighborsClassifier"
   ]
  },
  {
   "cell_type": "code",
   "execution_count": 2,
   "metadata": {},
   "outputs": [],
   "source": [
    "# I made something for y'all\n",
    "\n",
    "def eval_classification(model, model_name,\n",
    "                        X_tr, X_te, y_tr, y_te,\n",
    "                        to_print=False):\n",
    "    '''\n",
    "    Finds predictions for train and test sets, then\n",
    "    prints metrics for classification nicely\n",
    "\n",
    "    Inputs:\n",
    "    model : already-fit sklearn model\n",
    "    model_name : string, name for index for output df\n",
    "    X_tr : training X (can be scaled, that's fine)\n",
    "    X_te : testing X\n",
    "    y_tr : training target\n",
    "    y_te : testing target\n",
    "    to_print : boolean, will print output nicely if True\n",
    "\n",
    "    Outputs:\n",
    "    metric_df - pandas Dataframe showing output\n",
    "    '''\n",
    "    \n",
    "    metrics = {\"Accuracy\": accuracy_score,\n",
    "               \"Recall\": recall_score,\n",
    "               \"Precision\": precision_score,\n",
    "               \"F1-Score\": f1_score}\n",
    "\n",
    "    y_pred_tr = model.predict(X_tr)\n",
    "    y_pred_te = model.predict(X_te)\n",
    "\n",
    "    # Defining the column names based on the metric dict keys\n",
    "    col_list = []  # Starting a list\n",
    "    for name in metrics.keys():\n",
    "        col_list.append(f\"{name.lower()}_train\")\n",
    "        col_list.append(f\"{name.lower()}_test\")\n",
    "\n",
    "    metric_df = pd.DataFrame(columns=col_list)\n",
    "\n",
    "    for name, metric_function in metrics.items():\n",
    "        tr_col = f\"{name.lower()}_train\"\n",
    "        metric_df.at[model_name, tr_col] = metric_function(y_tr, y_pred_tr)\n",
    "        te_col = f\"{name.lower()}_test\"\n",
    "        metric_df.at[model_name, te_col] = metric_function(y_te, y_pred_te)\n",
    "        \n",
    "        # Adding to-print option to print the metrics nicely\n",
    "        if to_print:\n",
    "            print(f\"{name}:\"); print(\"=\"*len(name))\n",
    "            print(f\"TRAIN: {metric_function(y_tr, y_pred_tr):.4f}\")\n",
    "            print(f\"TEST: {metric_function(y_te, y_pred_te):.4f}\")\n",
    "            print(\"*\" * 15)\n",
    "    \n",
    "    return metric_df"
   ]
  },
  {
   "cell_type": "code",
   "execution_count": 3,
   "metadata": {},
   "outputs": [],
   "source": [
    "# Data import\n",
    "df = pd.read_csv('data/baseball_height_weight.csv')"
   ]
  },
  {
   "cell_type": "code",
   "execution_count": 4,
   "metadata": {
    "scrolled": true
   },
   "outputs": [
    {
     "data": {
      "text/html": [
       "<div>\n",
       "<style scoped>\n",
       "    .dataframe tbody tr th:only-of-type {\n",
       "        vertical-align: middle;\n",
       "    }\n",
       "\n",
       "    .dataframe tbody tr th {\n",
       "        vertical-align: top;\n",
       "    }\n",
       "\n",
       "    .dataframe thead th {\n",
       "        text-align: right;\n",
       "    }\n",
       "</style>\n",
       "<table border=\"1\" class=\"dataframe\">\n",
       "  <thead>\n",
       "    <tr style=\"text-align: right;\">\n",
       "      <th></th>\n",
       "      <th>name</th>\n",
       "      <th>team</th>\n",
       "      <th>position</th>\n",
       "      <th>height_in</th>\n",
       "      <th>weight_lb</th>\n",
       "      <th>age</th>\n",
       "    </tr>\n",
       "  </thead>\n",
       "  <tbody>\n",
       "    <tr>\n",
       "      <th>0</th>\n",
       "      <td>Adam_Donachie</td>\n",
       "      <td>BAL</td>\n",
       "      <td>Catcher</td>\n",
       "      <td>74</td>\n",
       "      <td>180.0</td>\n",
       "      <td>22.99</td>\n",
       "    </tr>\n",
       "    <tr>\n",
       "      <th>1</th>\n",
       "      <td>Paul_Bako</td>\n",
       "      <td>BAL</td>\n",
       "      <td>Catcher</td>\n",
       "      <td>74</td>\n",
       "      <td>215.0</td>\n",
       "      <td>34.69</td>\n",
       "    </tr>\n",
       "    <tr>\n",
       "      <th>2</th>\n",
       "      <td>Ramon_Hernandez</td>\n",
       "      <td>BAL</td>\n",
       "      <td>Catcher</td>\n",
       "      <td>72</td>\n",
       "      <td>210.0</td>\n",
       "      <td>30.78</td>\n",
       "    </tr>\n",
       "    <tr>\n",
       "      <th>3</th>\n",
       "      <td>Kevin_Millar</td>\n",
       "      <td>BAL</td>\n",
       "      <td>First_Baseman</td>\n",
       "      <td>72</td>\n",
       "      <td>210.0</td>\n",
       "      <td>35.43</td>\n",
       "    </tr>\n",
       "    <tr>\n",
       "      <th>4</th>\n",
       "      <td>Chris_Gomez</td>\n",
       "      <td>BAL</td>\n",
       "      <td>First_Baseman</td>\n",
       "      <td>73</td>\n",
       "      <td>188.0</td>\n",
       "      <td>35.71</td>\n",
       "    </tr>\n",
       "  </tbody>\n",
       "</table>\n",
       "</div>"
      ],
      "text/plain": [
       "              name team       position  height_in  weight_lb    age\n",
       "0    Adam_Donachie  BAL        Catcher         74      180.0  22.99\n",
       "1        Paul_Bako  BAL        Catcher         74      215.0  34.69\n",
       "2  Ramon_Hernandez  BAL        Catcher         72      210.0  30.78\n",
       "3     Kevin_Millar  BAL  First_Baseman         72      210.0  35.43\n",
       "4      Chris_Gomez  BAL  First_Baseman         73      188.0  35.71"
      ]
     },
     "execution_count": 4,
     "metadata": {},
     "output_type": "execute_result"
    }
   ],
   "source": [
    "df.head()"
   ]
  },
  {
   "cell_type": "code",
   "execution_count": 5,
   "metadata": {},
   "outputs": [
    {
     "data": {
      "text/plain": [
       "Relief_Pitcher       314\n",
       "Starting_Pitcher     220\n",
       "Outfielder           194\n",
       "Catcher               76\n",
       "Second_Baseman        58\n",
       "First_Baseman         55\n",
       "Shortstop             52\n",
       "Third_Baseman         45\n",
       "Designated_Hitter     18\n",
       "Name: position, dtype: int64"
      ]
     },
     "execution_count": 5,
     "metadata": {},
     "output_type": "execute_result"
    }
   ],
   "source": [
    "df['position'].value_counts()"
   ]
  },
  {
   "cell_type": "markdown",
   "metadata": {},
   "source": [
    "## Problem Definition\n",
    "\n",
    "I'm curious whether there are definitive differences between types of baseball players in terms of their physical attributes. Let's see if we can define a model that can predict whether a player is a pitcher or not."
   ]
  },
  {
   "cell_type": "code",
   "execution_count": 6,
   "metadata": {},
   "outputs": [],
   "source": [
    "# Defining our target\n",
    "df['pitcher'] = np.where(df['position'].str.contains(\"_Pitcher\", case=False, na=False), 1, 0)"
   ]
  },
  {
   "cell_type": "code",
   "execution_count": 7,
   "metadata": {},
   "outputs": [
    {
     "data": {
      "text/plain": [
       "1    534\n",
       "0    498\n",
       "Name: pitcher, dtype: int64"
      ]
     },
     "execution_count": 7,
     "metadata": {},
     "output_type": "execute_result"
    }
   ],
   "source": [
    "df['pitcher'].value_counts()"
   ]
  },
  {
   "cell_type": "code",
   "execution_count": 8,
   "metadata": {},
   "outputs": [
    {
     "data": {
      "text/plain": [
       "0.5174418604651163"
      ]
     },
     "execution_count": 8,
     "metadata": {},
     "output_type": "execute_result"
    }
   ],
   "source": [
    "# baseline accuracy (if we always predicted pitcher)\n",
    "\n",
    "len(df[df['pitcher'] == 1]) / len(df)"
   ]
  },
  {
   "cell_type": "code",
   "execution_count": 9,
   "metadata": {},
   "outputs": [
    {
     "data": {
      "text/plain": [
       "<seaborn.axisgrid.PairGrid at 0x7fbc902da850>"
      ]
     },
     "execution_count": 9,
     "metadata": {},
     "output_type": "execute_result"
    },
    {
     "data": {
      "image/png": "[encoded data removed]",
      "text/plain": [
       "<Figure size 720x720 with 20 Axes>"
      ]
     },
     "metadata": {
      "needs_background": "light"
     },
     "output_type": "display_data"
    }
   ],
   "source": [
    "sns.pairplot(df)"
   ]
  },
  {
   "cell_type": "markdown",
   "metadata": {},
   "source": [
    "## Modeling"
   ]
  },
  {
   "cell_type": "markdown",
   "metadata": {},
   "source": [
    "#### Model 1: Vanilla Logistic Regression"
   ]
  },
  {
   "cell_type": "code",
   "execution_count": 10,
   "metadata": {},
   "outputs": [],
   "source": [
    "# Defining our X and y\n",
    "X = df[['height_in', 'weight_lb', 'age']]\n",
    "y = df['pitcher']"
   ]
  },
  {
   "cell_type": "code",
   "execution_count": 11,
   "metadata": {},
   "outputs": [],
   "source": [
    "# Train/test split\n",
    "X_train, X_test, y_train, y_test = train_test_split(\n",
    "    X, y, test_size=0.33, random_state=42)"
   ]
  },
  {
   "cell_type": "code",
   "execution_count": 12,
   "metadata": {},
   "outputs": [],
   "source": [
    "# Scaling our data\n",
    "scaler = StandardScaler()\n",
    "\n",
    "X_train_sc = scaler.fit_transform(X_train)\n",
    "X_test_sc = scaler.transform(X_test)"
   ]
  },
  {
   "cell_type": "code",
   "execution_count": 13,
   "metadata": {},
   "outputs": [
    {
     "data": {
      "text/plain": [
       "LogisticRegression()"
      ]
     },
     "execution_count": 13,
     "metadata": {},
     "output_type": "execute_result"
    }
   ],
   "source": [
    "# Instantiating and fitting our first model\n",
    "logreg = LogisticRegression()\n",
    "logreg.fit(X_train_sc, y_train)"
   ]
  },
  {
   "cell_type": "code",
   "execution_count": 14,
   "metadata": {},
   "outputs": [
    {
     "name": "stdout",
     "output_type": "stream",
     "text": [
      "Accuracy:\n",
      "========\n",
      "TRAIN: 0.6498\n",
      "TEST: 0.6481\n",
      "***************\n",
      "Recall:\n",
      "======\n",
      "TRAIN: 0.6919\n",
      "TEST: 0.6723\n",
      "***************\n",
      "Precision:\n",
      "=========\n",
      "TRAIN: 0.6517\n",
      "TEST: 0.6575\n",
      "***************\n",
      "F1-Score:\n",
      "========\n",
      "TRAIN: 0.6712\n",
      "TEST: 0.6648\n",
      "***************\n"
     ]
    }
   ],
   "source": [
    "# Using our predefined function\n",
    "logreg_scores = eval_classification(logreg, \"logreg\",\n",
    "                                    X_train_sc, X_test_sc,\n",
    "                                    y_train, y_test,\n",
    "                                    to_print=True)"
   ]
  },
  {
   "cell_type": "code",
   "execution_count": 15,
   "metadata": {},
   "outputs": [
    {
     "data": {
      "text/html": [
       "<div>\n",
       "<style scoped>\n",
       "    .dataframe tbody tr th:only-of-type {\n",
       "        vertical-align: middle;\n",
       "    }\n",
       "\n",
       "    .dataframe tbody tr th {\n",
       "        vertical-align: top;\n",
       "    }\n",
       "\n",
       "    .dataframe thead th {\n",
       "        text-align: right;\n",
       "    }\n",
       "</style>\n",
       "<table border=\"1\" class=\"dataframe\">\n",
       "  <thead>\n",
       "    <tr style=\"text-align: right;\">\n",
       "      <th></th>\n",
       "      <th>accuracy_train</th>\n",
       "      <th>accuracy_test</th>\n",
       "      <th>recall_train</th>\n",
       "      <th>recall_test</th>\n",
       "      <th>precision_train</th>\n",
       "      <th>precision_test</th>\n",
       "      <th>f1-score_train</th>\n",
       "      <th>f1-score_test</th>\n",
       "    </tr>\n",
       "  </thead>\n",
       "  <tbody>\n",
       "    <tr>\n",
       "      <th>logreg</th>\n",
       "      <td>0.649783</td>\n",
       "      <td>0.648094</td>\n",
       "      <td>0.691877</td>\n",
       "      <td>0.672316</td>\n",
       "      <td>0.651715</td>\n",
       "      <td>0.657459</td>\n",
       "      <td>0.671196</td>\n",
       "      <td>0.664804</td>\n",
       "    </tr>\n",
       "  </tbody>\n",
       "</table>\n",
       "</div>"
      ],
      "text/plain": [
       "       accuracy_train accuracy_test recall_train recall_test precision_train  \\\n",
       "logreg       0.649783      0.648094     0.691877    0.672316        0.651715   \n",
       "\n",
       "       precision_test f1-score_train f1-score_test  \n",
       "logreg       0.657459       0.671196      0.664804  "
      ]
     },
     "execution_count": 15,
     "metadata": {},
     "output_type": "execute_result"
    }
   ],
   "source": [
    "logreg_scores"
   ]
  },
  {
   "cell_type": "markdown",
   "metadata": {},
   "source": [
    "#### Model 2: Balanced Logistic Regression"
   ]
  },
  {
   "cell_type": "code",
   "execution_count": 16,
   "metadata": {},
   "outputs": [
    {
     "data": {
      "text/plain": [
       "LogisticRegression(class_weight='balanced')"
      ]
     },
     "execution_count": 16,
     "metadata": {},
     "output_type": "execute_result"
    }
   ],
   "source": [
    "logreg_2 = LogisticRegression(class_weight='balanced')\n",
    "logreg_2.fit(X_train_sc, y_train)"
   ]
  },
  {
   "cell_type": "code",
   "execution_count": 17,
   "metadata": {},
   "outputs": [
    {
     "name": "stdout",
     "output_type": "stream",
     "text": [
      "Accuracy:\n",
      "========\n",
      "TRAIN: 0.6585\n",
      "TEST: 0.6422\n",
      "***************\n",
      "Recall:\n",
      "======\n",
      "TRAIN: 0.6555\n",
      "TEST: 0.6384\n",
      "***************\n",
      "Precision:\n",
      "=========\n",
      "TRAIN: 0.6744\n",
      "TEST: 0.6608\n",
      "***************\n",
      "F1-Score:\n",
      "========\n",
      "TRAIN: 0.6648\n",
      "TEST: 0.6494\n",
      "***************\n"
     ]
    }
   ],
   "source": [
    "logreg_bal = eval_classification(logreg_2, \"logreg_bal\", \n",
    "                                 X_train_sc, X_test_sc, \n",
    "                                 y_train, y_test,\n",
    "                                 to_print=True)"
   ]
  },
  {
   "cell_type": "code",
   "execution_count": 18,
   "metadata": {},
   "outputs": [
    {
     "data": {
      "text/html": [
       "<div>\n",
       "<style scoped>\n",
       "    .dataframe tbody tr th:only-of-type {\n",
       "        vertical-align: middle;\n",
       "    }\n",
       "\n",
       "    .dataframe tbody tr th {\n",
       "        vertical-align: top;\n",
       "    }\n",
       "\n",
       "    .dataframe thead th {\n",
       "        text-align: right;\n",
       "    }\n",
       "</style>\n",
       "<table border=\"1\" class=\"dataframe\">\n",
       "  <thead>\n",
       "    <tr style=\"text-align: right;\">\n",
       "      <th></th>\n",
       "      <th>accuracy_train</th>\n",
       "      <th>accuracy_test</th>\n",
       "      <th>recall_train</th>\n",
       "      <th>recall_test</th>\n",
       "      <th>precision_train</th>\n",
       "      <th>precision_test</th>\n",
       "      <th>f1-score_train</th>\n",
       "      <th>f1-score_test</th>\n",
       "    </tr>\n",
       "  </thead>\n",
       "  <tbody>\n",
       "    <tr>\n",
       "      <th>logreg</th>\n",
       "      <td>0.649783</td>\n",
       "      <td>0.648094</td>\n",
       "      <td>0.691877</td>\n",
       "      <td>0.672316</td>\n",
       "      <td>0.651715</td>\n",
       "      <td>0.657459</td>\n",
       "      <td>0.671196</td>\n",
       "      <td>0.664804</td>\n",
       "    </tr>\n",
       "    <tr>\n",
       "      <th>logreg_bal</th>\n",
       "      <td>0.658466</td>\n",
       "      <td>0.642229</td>\n",
       "      <td>0.655462</td>\n",
       "      <td>0.638418</td>\n",
       "      <td>0.674352</td>\n",
       "      <td>0.660819</td>\n",
       "      <td>0.664773</td>\n",
       "      <td>0.649425</td>\n",
       "    </tr>\n",
       "  </tbody>\n",
       "</table>\n",
       "</div>"
      ],
      "text/plain": [
       "           accuracy_train accuracy_test recall_train recall_test  \\\n",
       "logreg           0.649783      0.648094     0.691877    0.672316   \n",
       "logreg_bal       0.658466      0.642229     0.655462    0.638418   \n",
       "\n",
       "           precision_train precision_test f1-score_train f1-score_test  \n",
       "logreg            0.651715       0.657459       0.671196      0.664804  \n",
       "logreg_bal        0.674352       0.660819       0.664773      0.649425  "
      ]
     },
     "execution_count": 18,
     "metadata": {},
     "output_type": "execute_result"
    }
   ],
   "source": [
    "# Now, because we have these as dataframes with the same colnames:\n",
    "metrics = pd.concat([logreg_scores, logreg_bal])\n",
    "metrics"
   ]
  },
  {
   "cell_type": "markdown",
   "metadata": {},
   "source": [
    "#### Model 3: KNN with K=3"
   ]
  },
  {
   "cell_type": "code",
   "execution_count": 21,
   "metadata": {},
   "outputs": [
    {
     "data": {
      "text/plain": [
       "KNeighborsClassifier(n_neighbors=3)"
      ]
     },
     "execution_count": 21,
     "metadata": {},
     "output_type": "execute_result"
    }
   ],
   "source": [
    "# Instantiate and fit your model\n",
    "\n",
    "knn = KNeighborsClassifier(n_neighbors=3)\n",
    "knn.fit(X_train_sc, y_train)"
   ]
  },
  {
   "cell_type": "code",
   "execution_count": 22,
   "metadata": {
    "scrolled": true
   },
   "outputs": [
    {
     "name": "stdout",
     "output_type": "stream",
     "text": [
      "Accuracy:\n",
      "========\n",
      "TRAIN: 0.7931\n",
      "TEST: 0.6510\n",
      "***************\n",
      "Recall:\n",
      "======\n",
      "TRAIN: 0.8011\n",
      "TEST: 0.6723\n",
      "***************\n",
      "Precision:\n",
      "=========\n",
      "TRAIN: 0.7989\n",
      "TEST: 0.6611\n",
      "***************\n",
      "F1-Score:\n",
      "========\n",
      "TRAIN: 0.8000\n",
      "TEST: 0.6667\n",
      "***************\n"
     ]
    }
   ],
   "source": [
    "# Evaluate\n",
    "\n",
    "knn_results = eval_classification(knn, \"knn_default\", \n",
    "                                 X_train_sc, X_test_sc, \n",
    "                                 y_train, y_test,\n",
    "                                 to_print=True)"
   ]
  },
  {
   "cell_type": "code",
   "execution_count": 23,
   "metadata": {},
   "outputs": [
    {
     "name": "stdout",
     "output_type": "stream",
     "text": [
      "Accuracy:\n",
      "========\n",
      "TRAIN: 0.9986\n",
      "TEST: 0.6246\n",
      "***************\n",
      "Recall:\n",
      "======\n",
      "TRAIN: 0.9972\n",
      "TEST: 0.6441\n",
      "***************\n",
      "Precision:\n",
      "=========\n",
      "TRAIN: 1.0000\n",
      "TEST: 0.6369\n",
      "***************\n",
      "F1-Score:\n",
      "========\n",
      "TRAIN: 0.9986\n",
      "TEST: 0.6404\n",
      "***************\n"
     ]
    }
   ],
   "source": [
    "knn_weight = KNeighborsClassifier(weights = 'distance')\n",
    "knn_weight.fit(X_train_sc, y_train)\n",
    "\n",
    "knn_w_results = eval_classification(knn_weight, \"knn_dist\", \n",
    "                                 X_train_sc, X_test_sc, \n",
    "                                 y_train, y_test,\n",
    "                                 to_print=True)"
   ]
  },
  {
   "cell_type": "code",
   "execution_count": 24,
   "metadata": {},
   "outputs": [],
   "source": [
    "# How can I compare KNN results to my earlier logreg?\n",
    "for k in list(range(1, 11, 2)):\n",
    "    knn = KNeighborsClassifier(n_neighbors = k)\n",
    "    knn.fit(X_train_sc, y_train)\n",
    "    knn_results = eval_classification(knn, f\"knn{k}\", \n",
    "                                 X_train_sc, X_test_sc, \n",
    "                                 y_train, y_test)\n",
    "    metrics = pd.concat([metrics, knn_results])"
   ]
  },
  {
   "cell_type": "code",
   "execution_count": 25,
   "metadata": {},
   "outputs": [
    {
     "data": {
      "text/html": [
       "<div>\n",
       "<style scoped>\n",
       "    .dataframe tbody tr th:only-of-type {\n",
       "        vertical-align: middle;\n",
       "    }\n",
       "\n",
       "    .dataframe tbody tr th {\n",
       "        vertical-align: top;\n",
       "    }\n",
       "\n",
       "    .dataframe thead th {\n",
       "        text-align: right;\n",
       "    }\n",
       "</style>\n",
       "<table border=\"1\" class=\"dataframe\">\n",
       "  <thead>\n",
       "    <tr style=\"text-align: right;\">\n",
       "      <th></th>\n",
       "      <th>accuracy_train</th>\n",
       "      <th>accuracy_test</th>\n",
       "      <th>recall_train</th>\n",
       "      <th>recall_test</th>\n",
       "      <th>precision_train</th>\n",
       "      <th>precision_test</th>\n",
       "      <th>f1-score_train</th>\n",
       "      <th>f1-score_test</th>\n",
       "    </tr>\n",
       "  </thead>\n",
       "  <tbody>\n",
       "    <tr>\n",
       "      <th>logreg</th>\n",
       "      <td>0.649783</td>\n",
       "      <td>0.648094</td>\n",
       "      <td>0.691877</td>\n",
       "      <td>0.672316</td>\n",
       "      <td>0.651715</td>\n",
       "      <td>0.657459</td>\n",
       "      <td>0.671196</td>\n",
       "      <td>0.664804</td>\n",
       "    </tr>\n",
       "    <tr>\n",
       "      <th>logreg_bal</th>\n",
       "      <td>0.658466</td>\n",
       "      <td>0.642229</td>\n",
       "      <td>0.655462</td>\n",
       "      <td>0.638418</td>\n",
       "      <td>0.674352</td>\n",
       "      <td>0.660819</td>\n",
       "      <td>0.664773</td>\n",
       "      <td>0.649425</td>\n",
       "    </tr>\n",
       "    <tr>\n",
       "      <th>knn1</th>\n",
       "      <td>0.998553</td>\n",
       "      <td>0.548387</td>\n",
       "      <td>0.997199</td>\n",
       "      <td>0.564972</td>\n",
       "      <td>1</td>\n",
       "      <td>0.564972</td>\n",
       "      <td>0.998597</td>\n",
       "      <td>0.564972</td>\n",
       "    </tr>\n",
       "    <tr>\n",
       "      <th>knn3</th>\n",
       "      <td>0.793054</td>\n",
       "      <td>0.651026</td>\n",
       "      <td>0.80112</td>\n",
       "      <td>0.672316</td>\n",
       "      <td>0.798883</td>\n",
       "      <td>0.661111</td>\n",
       "      <td>0.8</td>\n",
       "      <td>0.666667</td>\n",
       "    </tr>\n",
       "    <tr>\n",
       "      <th>knn5</th>\n",
       "      <td>0.771346</td>\n",
       "      <td>0.648094</td>\n",
       "      <td>0.756303</td>\n",
       "      <td>0.677966</td>\n",
       "      <td>0.791789</td>\n",
       "      <td>0.655738</td>\n",
       "      <td>0.773639</td>\n",
       "      <td>0.666667</td>\n",
       "    </tr>\n",
       "    <tr>\n",
       "      <th>knn7</th>\n",
       "      <td>0.767004</td>\n",
       "      <td>0.633431</td>\n",
       "      <td>0.7507</td>\n",
       "      <td>0.644068</td>\n",
       "      <td>0.788235</td>\n",
       "      <td>0.647727</td>\n",
       "      <td>0.76901</td>\n",
       "      <td>0.645892</td>\n",
       "    </tr>\n",
       "    <tr>\n",
       "      <th>knn9</th>\n",
       "      <td>0.748191</td>\n",
       "      <td>0.630499</td>\n",
       "      <td>0.739496</td>\n",
       "      <td>0.655367</td>\n",
       "      <td>0.765217</td>\n",
       "      <td>0.640884</td>\n",
       "      <td>0.752137</td>\n",
       "      <td>0.648045</td>\n",
       "    </tr>\n",
       "  </tbody>\n",
       "</table>\n",
       "</div>"
      ],
      "text/plain": [
       "           accuracy_train accuracy_test recall_train recall_test  \\\n",
       "logreg           0.649783      0.648094     0.691877    0.672316   \n",
       "logreg_bal       0.658466      0.642229     0.655462    0.638418   \n",
       "knn1             0.998553      0.548387     0.997199    0.564972   \n",
       "knn3             0.793054      0.651026      0.80112    0.672316   \n",
       "knn5             0.771346      0.648094     0.756303    0.677966   \n",
       "knn7             0.767004      0.633431       0.7507    0.644068   \n",
       "knn9             0.748191      0.630499     0.739496    0.655367   \n",
       "\n",
       "           precision_train precision_test f1-score_train f1-score_test  \n",
       "logreg            0.651715       0.657459       0.671196      0.664804  \n",
       "logreg_bal        0.674352       0.660819       0.664773      0.649425  \n",
       "knn1                     1       0.564972       0.998597      0.564972  \n",
       "knn3              0.798883       0.661111            0.8      0.666667  \n",
       "knn5              0.791789       0.655738       0.773639      0.666667  \n",
       "knn7              0.788235       0.647727        0.76901      0.645892  \n",
       "knn9              0.765217       0.640884       0.752137      0.648045  "
      ]
     },
     "execution_count": 25,
     "metadata": {},
     "output_type": "execute_result"
    }
   ],
   "source": [
    "metrics"
   ]
  },
  {
   "cell_type": "markdown",
   "metadata": {},
   "source": [
    "## Evaluating"
   ]
  },
  {
   "cell_type": "code",
   "execution_count": 26,
   "metadata": {},
   "outputs": [],
   "source": [
    "test_cols = [c for c in metrics.columns.to_list() if \"test\" in c]"
   ]
  },
  {
   "cell_type": "code",
   "execution_count": 27,
   "metadata": {},
   "outputs": [
    {
     "data": {
      "text/html": [
       "<div>\n",
       "<style scoped>\n",
       "    .dataframe tbody tr th:only-of-type {\n",
       "        vertical-align: middle;\n",
       "    }\n",
       "\n",
       "    .dataframe tbody tr th {\n",
       "        vertical-align: top;\n",
       "    }\n",
       "\n",
       "    .dataframe thead th {\n",
       "        text-align: right;\n",
       "    }\n",
       "</style>\n",
       "<table border=\"1\" class=\"dataframe\">\n",
       "  <thead>\n",
       "    <tr style=\"text-align: right;\">\n",
       "      <th></th>\n",
       "      <th>accuracy_test</th>\n",
       "      <th>recall_test</th>\n",
       "      <th>precision_test</th>\n",
       "      <th>f1-score_test</th>\n",
       "    </tr>\n",
       "  </thead>\n",
       "  <tbody>\n",
       "    <tr>\n",
       "      <th>logreg</th>\n",
       "      <td>0.648094</td>\n",
       "      <td>0.672316</td>\n",
       "      <td>0.657459</td>\n",
       "      <td>0.664804</td>\n",
       "    </tr>\n",
       "    <tr>\n",
       "      <th>logreg_bal</th>\n",
       "      <td>0.642229</td>\n",
       "      <td>0.638418</td>\n",
       "      <td>0.660819</td>\n",
       "      <td>0.649425</td>\n",
       "    </tr>\n",
       "    <tr>\n",
       "      <th>knn1</th>\n",
       "      <td>0.548387</td>\n",
       "      <td>0.564972</td>\n",
       "      <td>0.564972</td>\n",
       "      <td>0.564972</td>\n",
       "    </tr>\n",
       "    <tr>\n",
       "      <th>knn3</th>\n",
       "      <td>0.651026</td>\n",
       "      <td>0.672316</td>\n",
       "      <td>0.661111</td>\n",
       "      <td>0.666667</td>\n",
       "    </tr>\n",
       "    <tr>\n",
       "      <th>knn5</th>\n",
       "      <td>0.648094</td>\n",
       "      <td>0.677966</td>\n",
       "      <td>0.655738</td>\n",
       "      <td>0.666667</td>\n",
       "    </tr>\n",
       "    <tr>\n",
       "      <th>knn7</th>\n",
       "      <td>0.633431</td>\n",
       "      <td>0.644068</td>\n",
       "      <td>0.647727</td>\n",
       "      <td>0.645892</td>\n",
       "    </tr>\n",
       "    <tr>\n",
       "      <th>knn9</th>\n",
       "      <td>0.630499</td>\n",
       "      <td>0.655367</td>\n",
       "      <td>0.640884</td>\n",
       "      <td>0.648045</td>\n",
       "    </tr>\n",
       "  </tbody>\n",
       "</table>\n",
       "</div>"
      ],
      "text/plain": [
       "           accuracy_test recall_test precision_test f1-score_test\n",
       "logreg          0.648094    0.672316       0.657459      0.664804\n",
       "logreg_bal      0.642229    0.638418       0.660819      0.649425\n",
       "knn1            0.548387    0.564972       0.564972      0.564972\n",
       "knn3            0.651026    0.672316       0.661111      0.666667\n",
       "knn5            0.648094    0.677966       0.655738      0.666667\n",
       "knn7            0.633431    0.644068       0.647727      0.645892\n",
       "knn9            0.630499    0.655367       0.640884      0.648045"
      ]
     },
     "execution_count": 27,
     "metadata": {},
     "output_type": "execute_result"
    }
   ],
   "source": [
    "metrics[test_cols]"
   ]
  },
  {
   "cell_type": "markdown",
   "metadata": {},
   "source": [
    "# Level Up: Multi-Class Classification"
   ]
  },
  {
   "cell_type": "code",
   "execution_count": 28,
   "metadata": {},
   "outputs": [],
   "source": [
    "from sklearn.datasets import load_iris"
   ]
  },
  {
   "cell_type": "code",
   "execution_count": 29,
   "metadata": {},
   "outputs": [],
   "source": [
    "iris = load_iris()"
   ]
  },
  {
   "cell_type": "code",
   "execution_count": 30,
   "metadata": {},
   "outputs": [
    {
     "data": {
      "text/plain": [
       "dict_keys(['data', 'target', 'frame', 'target_names', 'DESCR', 'feature_names', 'filename'])"
      ]
     },
     "execution_count": 30,
     "metadata": {},
     "output_type": "execute_result"
    }
   ],
   "source": [
    "iris.keys()"
   ]
  },
  {
   "cell_type": "code",
   "execution_count": 31,
   "metadata": {},
   "outputs": [],
   "source": [
    "X = iris['data']\n",
    "y = iris['target']"
   ]
  },
  {
   "cell_type": "code",
   "execution_count": 32,
   "metadata": {},
   "outputs": [],
   "source": [
    "iris_df = pd.DataFrame(X, columns = iris['feature_names'])\n",
    "iris_df['target'] = y"
   ]
  },
  {
   "cell_type": "code",
   "execution_count": 34,
   "metadata": {},
   "outputs": [
    {
     "data": {
      "text/plain": [
       "array(['setosa', 'versicolor', 'virginica'], dtype='<U10')"
      ]
     },
     "execution_count": 34,
     "metadata": {},
     "output_type": "execute_result"
    }
   ],
   "source": [
    "iris['target_names']"
   ]
  },
  {
   "cell_type": "code",
   "execution_count": 33,
   "metadata": {},
   "outputs": [
    {
     "data": {
      "text/html": [
       "<div>\n",
       "<style scoped>\n",
       "    .dataframe tbody tr th:only-of-type {\n",
       "        vertical-align: middle;\n",
       "    }\n",
       "\n",
       "    .dataframe tbody tr th {\n",
       "        vertical-align: top;\n",
       "    }\n",
       "\n",
       "    .dataframe thead th {\n",
       "        text-align: right;\n",
       "    }\n",
       "</style>\n",
       "<table border=\"1\" class=\"dataframe\">\n",
       "  <thead>\n",
       "    <tr style=\"text-align: right;\">\n",
       "      <th></th>\n",
       "      <th>sepal length (cm)</th>\n",
       "      <th>sepal width (cm)</th>\n",
       "      <th>petal length (cm)</th>\n",
       "      <th>petal width (cm)</th>\n",
       "      <th>target</th>\n",
       "    </tr>\n",
       "  </thead>\n",
       "  <tbody>\n",
       "    <tr>\n",
       "      <th>140</th>\n",
       "      <td>6.7</td>\n",
       "      <td>3.1</td>\n",
       "      <td>5.6</td>\n",
       "      <td>2.4</td>\n",
       "      <td>2</td>\n",
       "    </tr>\n",
       "    <tr>\n",
       "      <th>128</th>\n",
       "      <td>6.4</td>\n",
       "      <td>2.8</td>\n",
       "      <td>5.6</td>\n",
       "      <td>2.1</td>\n",
       "      <td>2</td>\n",
       "    </tr>\n",
       "    <tr>\n",
       "      <th>41</th>\n",
       "      <td>4.5</td>\n",
       "      <td>2.3</td>\n",
       "      <td>1.3</td>\n",
       "      <td>0.3</td>\n",
       "      <td>0</td>\n",
       "    </tr>\n",
       "    <tr>\n",
       "      <th>129</th>\n",
       "      <td>7.2</td>\n",
       "      <td>3.0</td>\n",
       "      <td>5.8</td>\n",
       "      <td>1.6</td>\n",
       "      <td>2</td>\n",
       "    </tr>\n",
       "    <tr>\n",
       "      <th>82</th>\n",
       "      <td>5.8</td>\n",
       "      <td>2.7</td>\n",
       "      <td>3.9</td>\n",
       "      <td>1.2</td>\n",
       "      <td>1</td>\n",
       "    </tr>\n",
       "    <tr>\n",
       "      <th>75</th>\n",
       "      <td>6.6</td>\n",
       "      <td>3.0</td>\n",
       "      <td>4.4</td>\n",
       "      <td>1.4</td>\n",
       "      <td>1</td>\n",
       "    </tr>\n",
       "    <tr>\n",
       "      <th>9</th>\n",
       "      <td>4.9</td>\n",
       "      <td>3.1</td>\n",
       "      <td>1.5</td>\n",
       "      <td>0.1</td>\n",
       "      <td>0</td>\n",
       "    </tr>\n",
       "    <tr>\n",
       "      <th>36</th>\n",
       "      <td>5.5</td>\n",
       "      <td>3.5</td>\n",
       "      <td>1.3</td>\n",
       "      <td>0.2</td>\n",
       "      <td>0</td>\n",
       "    </tr>\n",
       "    <tr>\n",
       "      <th>95</th>\n",
       "      <td>5.7</td>\n",
       "      <td>3.0</td>\n",
       "      <td>4.2</td>\n",
       "      <td>1.2</td>\n",
       "      <td>1</td>\n",
       "    </tr>\n",
       "    <tr>\n",
       "      <th>86</th>\n",
       "      <td>6.7</td>\n",
       "      <td>3.1</td>\n",
       "      <td>4.7</td>\n",
       "      <td>1.5</td>\n",
       "      <td>1</td>\n",
       "    </tr>\n",
       "  </tbody>\n",
       "</table>\n",
       "</div>"
      ],
      "text/plain": [
       "     sepal length (cm)  sepal width (cm)  petal length (cm)  petal width (cm)  \\\n",
       "140                6.7               3.1                5.6               2.4   \n",
       "128                6.4               2.8                5.6               2.1   \n",
       "41                 4.5               2.3                1.3               0.3   \n",
       "129                7.2               3.0                5.8               1.6   \n",
       "82                 5.8               2.7                3.9               1.2   \n",
       "75                 6.6               3.0                4.4               1.4   \n",
       "9                  4.9               3.1                1.5               0.1   \n",
       "36                 5.5               3.5                1.3               0.2   \n",
       "95                 5.7               3.0                4.2               1.2   \n",
       "86                 6.7               3.1                4.7               1.5   \n",
       "\n",
       "     target  \n",
       "140       2  \n",
       "128       2  \n",
       "41        0  \n",
       "129       2  \n",
       "82        1  \n",
       "75        1  \n",
       "9         0  \n",
       "36        0  \n",
       "95        1  \n",
       "86        1  "
      ]
     },
     "execution_count": 33,
     "metadata": {},
     "output_type": "execute_result"
    }
   ],
   "source": [
    "iris_df.sample(n=10)"
   ]
  },
  {
   "cell_type": "code",
   "execution_count": 35,
   "metadata": {},
   "outputs": [
    {
     "data": {
      "text/plain": [
       "2    50\n",
       "1    50\n",
       "0    50\n",
       "Name: target, dtype: int64"
      ]
     },
     "execution_count": 35,
     "metadata": {},
     "output_type": "execute_result"
    }
   ],
   "source": [
    "iris_df['target'].value_counts()"
   ]
  },
  {
   "cell_type": "code",
   "execution_count": 36,
   "metadata": {},
   "outputs": [
    {
     "data": {
      "text/html": [
       "<div>\n",
       "<style scoped>\n",
       "    .dataframe tbody tr th:only-of-type {\n",
       "        vertical-align: middle;\n",
       "    }\n",
       "\n",
       "    .dataframe tbody tr th {\n",
       "        vertical-align: top;\n",
       "    }\n",
       "\n",
       "    .dataframe thead th {\n",
       "        text-align: right;\n",
       "    }\n",
       "</style>\n",
       "<table border=\"1\" class=\"dataframe\">\n",
       "  <thead>\n",
       "    <tr style=\"text-align: right;\">\n",
       "      <th></th>\n",
       "      <th>sepal length (cm)</th>\n",
       "      <th>sepal width (cm)</th>\n",
       "      <th>petal length (cm)</th>\n",
       "      <th>petal width (cm)</th>\n",
       "      <th>target</th>\n",
       "    </tr>\n",
       "  </thead>\n",
       "  <tbody>\n",
       "    <tr>\n",
       "      <th>count</th>\n",
       "      <td>150.000000</td>\n",
       "      <td>150.000000</td>\n",
       "      <td>150.000000</td>\n",
       "      <td>150.000000</td>\n",
       "      <td>150.000000</td>\n",
       "    </tr>\n",
       "    <tr>\n",
       "      <th>mean</th>\n",
       "      <td>5.843333</td>\n",
       "      <td>3.057333</td>\n",
       "      <td>3.758000</td>\n",
       "      <td>1.199333</td>\n",
       "      <td>1.000000</td>\n",
       "    </tr>\n",
       "    <tr>\n",
       "      <th>std</th>\n",
       "      <td>0.828066</td>\n",
       "      <td>0.435866</td>\n",
       "      <td>1.765298</td>\n",
       "      <td>0.762238</td>\n",
       "      <td>0.819232</td>\n",
       "    </tr>\n",
       "    <tr>\n",
       "      <th>min</th>\n",
       "      <td>4.300000</td>\n",
       "      <td>2.000000</td>\n",
       "      <td>1.000000</td>\n",
       "      <td>0.100000</td>\n",
       "      <td>0.000000</td>\n",
       "    </tr>\n",
       "    <tr>\n",
       "      <th>25%</th>\n",
       "      <td>5.100000</td>\n",
       "      <td>2.800000</td>\n",
       "      <td>1.600000</td>\n",
       "      <td>0.300000</td>\n",
       "      <td>0.000000</td>\n",
       "    </tr>\n",
       "    <tr>\n",
       "      <th>50%</th>\n",
       "      <td>5.800000</td>\n",
       "      <td>3.000000</td>\n",
       "      <td>4.350000</td>\n",
       "      <td>1.300000</td>\n",
       "      <td>1.000000</td>\n",
       "    </tr>\n",
       "    <tr>\n",
       "      <th>75%</th>\n",
       "      <td>6.400000</td>\n",
       "      <td>3.300000</td>\n",
       "      <td>5.100000</td>\n",
       "      <td>1.800000</td>\n",
       "      <td>2.000000</td>\n",
       "    </tr>\n",
       "    <tr>\n",
       "      <th>max</th>\n",
       "      <td>7.900000</td>\n",
       "      <td>4.400000</td>\n",
       "      <td>6.900000</td>\n",
       "      <td>2.500000</td>\n",
       "      <td>2.000000</td>\n",
       "    </tr>\n",
       "  </tbody>\n",
       "</table>\n",
       "</div>"
      ],
      "text/plain": [
       "       sepal length (cm)  sepal width (cm)  petal length (cm)  \\\n",
       "count         150.000000        150.000000         150.000000   \n",
       "mean            5.843333          3.057333           3.758000   \n",
       "std             0.828066          0.435866           1.765298   \n",
       "min             4.300000          2.000000           1.000000   \n",
       "25%             5.100000          2.800000           1.600000   \n",
       "50%             5.800000          3.000000           4.350000   \n",
       "75%             6.400000          3.300000           5.100000   \n",
       "max             7.900000          4.400000           6.900000   \n",
       "\n",
       "       petal width (cm)      target  \n",
       "count        150.000000  150.000000  \n",
       "mean           1.199333    1.000000  \n",
       "std            0.762238    0.819232  \n",
       "min            0.100000    0.000000  \n",
       "25%            0.300000    0.000000  \n",
       "50%            1.300000    1.000000  \n",
       "75%            1.800000    2.000000  \n",
       "max            2.500000    2.000000  "
      ]
     },
     "execution_count": 36,
     "metadata": {},
     "output_type": "execute_result"
    }
   ],
   "source": [
    "iris_df.describe()"
   ]
  },
  {
   "cell_type": "markdown",
   "metadata": {},
   "source": [
    "## Modeling"
   ]
  },
  {
   "cell_type": "code",
   "execution_count": 37,
   "metadata": {},
   "outputs": [],
   "source": [
    "# New train test split, now for iris data\n",
    "X_train, X_test, y_train, y_test = train_test_split(\n",
    "    X, y, test_size=0.33, random_state=42, stratify=y)"
   ]
  },
  {
   "cell_type": "code",
   "execution_count": 38,
   "metadata": {},
   "outputs": [],
   "source": [
    "# Still need to scale\n",
    "scaler = StandardScaler()\n",
    "X_train_sc = scaler.fit_transform(X_train)\n",
    "X_test_sc = scaler.transform(X_test)"
   ]
  },
  {
   "cell_type": "code",
   "execution_count": 39,
   "metadata": {},
   "outputs": [
    {
     "data": {
      "text/plain": [
       "KNeighborsClassifier()"
      ]
     },
     "execution_count": 39,
     "metadata": {},
     "output_type": "execute_result"
    }
   ],
   "source": [
    "# Instantiate and fit a KNN classifier\n",
    "knn = KNeighborsClassifier()\n",
    "knn.fit(X_train_sc, y_train)"
   ]
  },
  {
   "cell_type": "markdown",
   "metadata": {},
   "source": [
    "## Evaluating: How do we evaluate a multi-class model?\n",
    "\n",
    "https://scikit-learn.org/stable/modules/model_evaluation.html#from-binary-to-multiclass-and-multilabel"
   ]
  },
  {
   "cell_type": "code",
   "execution_count": 40,
   "metadata": {},
   "outputs": [
    {
     "name": "stdout",
     "output_type": "stream",
     "text": [
      "Train: 0.98\n",
      "Test: 0.92\n"
     ]
    }
   ],
   "source": [
    "print(f\"Train: {knn.score(X_train_sc, y_train)}\")\n",
    "print(f\"Test: {knn.score(X_test_sc, y_test)}\")"
   ]
  },
  {
   "cell_type": "code",
   "execution_count": 41,
   "metadata": {},
   "outputs": [
    {
     "data": {
      "text/plain": [
       "<sklearn.metrics._plot.confusion_matrix.ConfusionMatrixDisplay at 0x7fbc9116cfd0>"
      ]
     },
     "execution_count": 41,
     "metadata": {},
     "output_type": "execute_result"
    },
    {
     "data": {
      "image/png": "[encoded data removed]",
      "text/plain": [
       "<Figure size 432x288 with 2 Axes>"
      ]
     },
     "metadata": {
      "needs_background": "light"
     },
     "output_type": "display_data"
    }
   ],
   "source": [
    "plot_confusion_matrix(knn, X_test_sc, y_test)"
   ]
  },
  {
   "cell_type": "code",
   "execution_count": null,
   "metadata": {},
   "outputs": [],
   "source": []
  }
 ],
 "metadata": {
  "kernelspec": {
   "display_name": "Python 3",
   "language": "python",
   "name": "python3"
  },
  "language_info": {
   "codemirror_mode": {
    "name": "ipython",
    "version": 3
   },
   "file_extension": ".py",
   "mimetype": "text/x-python",
   "name": "python",
   "nbconvert_exporter": "python",
   "pygments_lexer": "ipython3",
   "version": "3.7.6"
  }
 },
 "nbformat": 4,
 "nbformat_minor": 2
}

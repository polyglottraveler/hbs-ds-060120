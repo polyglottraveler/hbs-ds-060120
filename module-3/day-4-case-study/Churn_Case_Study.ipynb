{
 "cells": [
  {
   "cell_type": "markdown",
   "metadata": {},
   "source": [
    "# Churn Case Study\n",
    "\n",
    "## Context\n",
    "\"Predict behavior to retain customers. You can analyze all relevant customer data and develop focused customer retention programs.\" [IBM Sample Data Sets]\n",
    "\n",
    "\n",
    "<img src=\"https://images.pexels.com/photos/3078/home-dialer-siemens-telephone.jpg?auto=compress&cs=tinysrgb&dpr=2&h=750&w=1260\" style=\"width:400px\">\n",
    "\n",
    "**Client**: Telco Company in the USA offering triple play (phone, internet and TV).\n",
    "\n",
    "New competitor entered offering triple play, resulting in increased churn.\n",
    "\n",
    "Want better way to spot potential churning customers and suggested actions what to do."
   ]
  },
  {
   "cell_type": "markdown",
   "metadata": {},
   "source": [
    "## **Assignment**\n",
    "\n",
    "- Define the business problem\n",
    "- Determine which evaluation metric you find appropriate:\n",
    "   - accuracy\n",
    "   - precision\n",
    "   - recall\n",
    "   - f1 score\n",
    "- Determine which type of slice/segment/type of churn you are interested\n",
    "- Run \"data prep code\"\n",
    "- Use logistic regression to create 2-3 model specifications\n",
    "  - model 1 (vanilla model): uses cleaned data as is, find best cutoff using chosen metric\n",
    "  - model 2: create at least **2 new features** and add them to the model\n",
    "  - model 3 (if time, a 'reach' model): increase the LASSO penalty to decrease the feature set\n",
    "- Pick the \"best\" model and find the \"best\" threshold\n",
    "- Use \"best\" model to identify the drivers of churn in your segment analysis and make recommendations for the company\n",
    "- Each group will have 5 minutes to present their recommendations to the rest of the class. Make sure to share:\n",
    "   - segment you chose\n",
    "   - evaluation metric you chose based on the business problem\n",
    "   - evaluation metric of \"best\" model's threshold & threshold\n",
    "   - what drives churn and what are your recommendations\n",
    "   - **if you had more time** what would you work on?"
   ]
  },
  {
   "cell_type": "markdown",
   "metadata": {},
   "source": [
    "## Data\n",
    "\n",
    "<img src=\"https://images.pexels.com/photos/53621/calculator-calculation-insurance-finance-53621.jpeg?auto=compress&cs=tinysrgb&dpr=2&h=750&w=1260\" style = \"width:400px\" >\n",
    "Each row represents a customer, each column contains customer’s attributes described on the column Metadata.\n",
    "\n",
    "The data set includes information about:\n",
    "\n",
    "- Customers who left within the last month – the column is called Churn\n",
    "- Services that each customer has signed up for – phone, multiple lines, internet, online security, online backup, device protection, tech support, and streaming TV and movies\n",
    "- Customer account information \n",
    "     - how long they’ve been a customer (tenure is in months)\n",
    "     - contract, payment method, paperless billing, monthly charges, and total charges\n",
    "     - all \"totals\" are over the length of the contract\n",
    "- Demographic info about customers – gender, age range, and if they have partners and dependents\n",
    "- Usage\n",
    "    - information about their usage patterns\n",
    "    - again, usage totals are over length of contract"
   ]
  },
  {
   "cell_type": "markdown",
   "metadata": {},
   "source": [
    "## Concept: Churn\n",
    "\n",
    "#### Type of churn:\n",
    "\n",
    "**Voluntary** – they left after contract was up\n",
    "\n",
    "**Involuntary** – we fired them\n",
    "\n",
    "**Early churn** – left early, broke contract\n",
    "\n",
    "### Churn is a survival problem:\n",
    "- Predicting who will churn next month is really hard\n",
    "- Predicting who may churn over next 3 months is easier\n",
    "\n",
    "<img src = \"./img/funnel.png\" style=\"width:800px\">\n",
    "\n",
    "There are many reasons to churn &#8594; **feature engineering is king**"
   ]
  },
  {
   "cell_type": "markdown",
   "metadata": {},
   "source": [
    "### Solutions need to be tied to root problems\n",
    "\n",
    "<img src = \"./img/solution.png\" style=\"width:800px\">"
   ]
  },
  {
   "cell_type": "markdown",
   "metadata": {},
   "source": [
    "### Different solutions have different time frames\n",
    "\n",
    "<img src = \"./img/time.png\" style=\"width:800px\">"
   ]
  },
  {
   "cell_type": "markdown",
   "metadata": {},
   "source": [
    "## Remember:\n",
    "\n",
    "#### You will not be paid to create intricate models\n",
    "### You will be paid to **Solve Problems**"
   ]
  },
  {
   "cell_type": "markdown",
   "metadata": {},
   "source": [
    "# Get Started!\n",
    "\n",
    "## Part 1: Business problem\n",
    "\n",
    "#### End Users:\n",
    "\n",
    "\n",
    "\n",
    "#### True business problem:\n",
    "\n",
    "\n",
    "\n",
    "#### Context:\n",
    "\n",
    "- **False negative** \n",
    "    - **Outcome**:\n",
    "- **False positive**\n",
    "    - **Outcome**: "
   ]
  },
  {
   "cell_type": "markdown",
   "metadata": {},
   "source": [
    "## Part 2: Evaluation Metric\n",
    "Which metric (of the ones we've explore so far) would make sense to primarily use as we evaluate our models?\n",
    "\n",
    "- Accuracy\n",
    "- Precision\n",
    "- Recall\n",
    "- F1-Score"
   ]
  },
  {
   "cell_type": "markdown",
   "metadata": {},
   "source": [
    "## Part 3: Segment choice\n",
    "\n",
    "What type slice/segment/type of churn you are interested in?"
   ]
  },
  {
   "cell_type": "markdown",
   "metadata": {},
   "source": [
    "## Part 4: Data Prep Code"
   ]
  },
  {
   "cell_type": "code",
   "execution_count": null,
   "metadata": {},
   "outputs": [],
   "source": [
    "# Import pacakges\n",
    "import numpy as np\n",
    "import pandas as pd\n",
    "from sklearn.preprocessing import OneHotEncoder\n",
    "from sklearn.model_selection import train_test_split\n",
    "\n",
    "# Load dataset\n",
    "url_link = 'https://docs.google.com/spreadsheets/d/1TAWfdKnWYiCzKUeDyGL6NzIOv7AxFt_Sfzzax464_FQ/export?format=csv&gid=882919979'\n",
    "telco = pd.read_csv(url_link)\n",
    "\n",
    "# Drop nas\n",
    "telco.dropna(inplace=True)\n",
    "\n",
    "# Train-test-split\n",
    "X_train, X_test, y_train, y_test = train_test_split(telco.drop(columns=['customerID','Churn']), np.where(telco.Churn ==\"Yes\", 1, 0), test_size=0.33, random_state=42)\n",
    "\n",
    "# Separate out numeric from categorical variables\n",
    "cat_var = telco.select_dtypes(include='object')\n",
    "cat_var.drop(columns=['customerID','Churn'], inplace = True)\n",
    "\n",
    "num_var = telco.select_dtypes(exclude = 'object') \n",
    "\n",
    "# Encode categorical variables\n",
    "ohc = OneHotEncoder(drop='first')\n",
    "encoded_cat = ohc.fit_transform(X_train[cat_var.columns.tolist()]).toarray()\n",
    "\n",
    "# Add feature names to encoded vars\n",
    "encoded=pd.DataFrame(encoded_cat, columns=ohc.get_feature_names(cat_var.columns.tolist()))\n",
    "encoded.reset_index(inplace=True, drop=True)\n",
    "X_train.reset_index(inplace=True, drop=True)\n",
    "\n",
    "# Reassemble entire training dataset\n",
    "clean_X_train = pd.concat([X_train[num_var.columns.tolist()] , encoded], axis=1,  sort=False)\n",
    "clean_X_train.shape"
   ]
  },
  {
   "cell_type": "code",
   "execution_count": null,
   "metadata": {},
   "outputs": [],
   "source": [
    "clean_X_train.columns"
   ]
  },
  {
   "cell_type": "markdown",
   "metadata": {},
   "source": [
    "## Part 5: Create models"
   ]
  },
  {
   "cell_type": "code",
   "execution_count": null,
   "metadata": {},
   "outputs": [],
   "source": [
    "vanilla_mod = "
   ]
  },
  {
   "cell_type": "code",
   "execution_count": null,
   "metadata": {},
   "outputs": [],
   "source": []
  },
  {
   "cell_type": "markdown",
   "metadata": {},
   "source": [
    "## Part 6: Pick model & find best threshold"
   ]
  },
  {
   "cell_type": "code",
   "execution_count": null,
   "metadata": {},
   "outputs": [],
   "source": []
  },
  {
   "cell_type": "markdown",
   "metadata": {},
   "source": [
    "## Part 7: What drives churn?"
   ]
  },
  {
   "cell_type": "code",
   "execution_count": null,
   "metadata": {},
   "outputs": [],
   "source": []
  },
  {
   "cell_type": "markdown",
   "metadata": {},
   "source": [
    "## Part 8: What are your recommendations?"
   ]
  },
  {
   "cell_type": "code",
   "execution_count": null,
   "metadata": {},
   "outputs": [],
   "source": []
  },
  {
   "cell_type": "code",
   "execution_count": null,
   "metadata": {},
   "outputs": [],
   "source": []
  }
 ],
 "metadata": {
  "kernelspec": {
   "display_name": "Python 3",
   "language": "python",
   "name": "python3"
  },
  "language_info": {
   "codemirror_mode": {
    "name": "ipython",
    "version": 3
   },
   "file_extension": ".py",
   "mimetype": "text/x-python",
   "name": "python",
   "nbconvert_exporter": "python",
   "pygments_lexer": "ipython3",
   "version": "3.6.9"
  }
 },
 "nbformat": 4,
 "nbformat_minor": 4
}

{
 "cells": [
  {
   "cell_type": "markdown",
   "metadata": {},
   "source": [
    "# Churn Case Study\n",
    "\n",
    "## Context\n",
    "\"Predict behavior to retain customers. You can analyze all relevant customer data and develop focused customer retention programs.\" [IBM Sample Data Sets]\n",
    "\n",
    "\n",
    "<img src=\"https://images.pexels.com/photos/3078/home-dialer-siemens-telephone.jpg?auto=compress&cs=tinysrgb&dpr=2&h=750&w=1260\" style=\"width:400px\">\n",
    "\n",
    "**Client**: Telco Company in the USA offering triple play (phone, internet and TV).\n",
    "\n",
    "New competitor entered offering triple play, resulting in increased churn.\n",
    "\n",
    "Want better way to spot potential churning customers and suggested actions what to do."
   ]
  },
  {
   "cell_type": "markdown",
   "metadata": {},
   "source": [
    "## **Assignment**\n",
    "\n",
    "- Define the business problem\n",
    "- Determine which evaluation metric you find appropriate:\n",
    "   - accuracy\n",
    "   - precision\n",
    "   - recall\n",
    "   - f1 score\n",
    "- Determine which type of slice/segment/type of churn you are interested\n",
    "- Run \"data prep code\"\n",
    "- Use logistic regression to create 2-3 model specifications\n",
    "  - model 1 (vanilla model): uses cleaned data as is, find best cutoff using chosen metric\n",
    "  - model 2: create at least **2 new features** and add them to the model\n",
    "  - model 3 (if time, a 'reach' model): increase the LASSO penalty to decrease the feature set\n",
    "- Pick the \"best\" model and find the \"best\" threshold\n",
    "- Use \"best\" model to identify the drivers of churn in your segment analysis and make recommendations for the company\n",
    "- Each group will have 5 minutes to present their recommendations to the rest of the class. Make sure to share:\n",
    "   - segment you chose\n",
    "   - evaluation metric you chose based on the business problem\n",
    "   - evaluation metric of \"best\" model's threshold & threshold\n",
    "   - what drives churn and what are your recommendations\n",
    "   - **if you had more time** what would you work on?"
   ]
  },
  {
   "cell_type": "markdown",
   "metadata": {},
   "source": [
    "## Data\n",
    "\n",
    "<img src=\"https://images.pexels.com/photos/53621/calculator-calculation-insurance-finance-53621.jpeg?auto=compress&cs=tinysrgb&dpr=2&h=750&w=1260\" style = \"width:400px\" >\n",
    "Each row represents a customer, each column contains customer’s attributes described on the column Metadata.\n",
    "\n",
    "The data set includes information about:\n",
    "\n",
    "- Customers who left within the last month – the column is called Churn\n",
    "- Services that each customer has signed up for – phone, multiple lines, internet, online security, online backup, device protection, tech support, and streaming TV and movies\n",
    "- Customer account information \n",
    "     - how long they’ve been a customer (tenure is in months)\n",
    "     - contract, payment method, paperless billing, monthly charges, and total charges\n",
    "     - all \"totals\" are over the length of the contract\n",
    "- Demographic info about customers – gender, age range, and if they have partners and dependents\n",
    "- Usage\n",
    "    - information about their usage patterns\n",
    "    - again, usage totals are over length of contract"
   ]
  },
  {
   "cell_type": "markdown",
   "metadata": {},
   "source": [
    "## Concept: Churn\n",
    "\n",
    "#### Type of churn:\n",
    "\n",
    "**Voluntary** – they left after contract was up\n",
    "\n",
    "**Involuntary** – we fired them\n",
    "\n",
    "**Early churn** – left early, broke contract\n",
    "\n",
    "### Churn is a survival problem:\n",
    "- Predicting who will churn next month is really hard\n",
    "- Predicting who may churn over next 3 months is easier\n",
    "\n",
    "<img src = \"./img/funnel.png\" style=\"width:800px\">\n",
    "\n",
    "There are many reasons to churn &#8594; **feature engineering is king**"
   ]
  },
  {
   "cell_type": "markdown",
   "metadata": {},
   "source": [
    "### Solutions need to be tied to root problems\n",
    "\n",
    "<img src = \"./img/solution.png\" style=\"width:800px\">"
   ]
  },
  {
   "cell_type": "markdown",
   "metadata": {},
   "source": [
    "### Different solutions have different time frames\n",
    "\n",
    "<img src = \"./img/time.png\" style=\"width:800px\">"
   ]
  },
  {
   "cell_type": "markdown",
   "metadata": {},
   "source": [
    "## Remember:\n",
    "\n",
    "#### You will not be paid to create intricate models\n",
    "### You will be paid to **Solve Problems**"
   ]
  },
  {
   "cell_type": "markdown",
   "metadata": {},
   "source": [
    "# Get Started!\n",
    "\n",
    "## Part 1: Business problem\n",
    "\n",
    "#### End Users: \n",
    "\n",
    "Telco Company management team\n",
    "\n",
    "#### True business problem:\n",
    "\n",
    "Create a model that can, if given data from telco about the information of a customer, predict whether the customer will churn\n",
    "\n",
    "#### Which type of churn?\n",
    "Voluntary – they left after contract was up\n",
    "Involuntary – we fired them\n",
    "Early churn – left early, broke contract\n",
    "\n",
    "#### Context:\n",
    "\n",
    "Negative: will not churn\n",
    "Positive: will churn\n",
    "\n",
    "- **False negative** Predict a customer will not churn but actually will churn\n",
    "    - **Outcome**: lose customers --> minimize FN,\n",
    "- **False positive** Predict a customer will churn but actually will not\n",
    "    - **Outcome**: overspend on the customer --> optimize for false positive / recall"
   ]
  },
  {
   "cell_type": "markdown",
   "metadata": {},
   "source": [
    "## Part 2: Evaluation Metric\n",
    "Which metric (of the ones we've explore so far) would make sense to primarily use as we evaluate our models?\n",
    "\n",
    "- Accuracy\n",
    "- Precision\n",
    "\n",
    "<b> - Recall </b>\n",
    "- F1-Score"
   ]
  },
  {
   "cell_type": "markdown",
   "metadata": {},
   "source": [
    "## Part 3: Segment choice\n",
    "\n",
    "What type slice/segment/type of churn you are interested in?"
   ]
  },
  {
   "cell_type": "markdown",
   "metadata": {},
   "source": [
    "## Part 4: Data Prep Code"
   ]
  },
  {
   "cell_type": "code",
   "execution_count": 41,
   "metadata": {},
   "outputs": [
    {
     "name": "stderr",
     "output_type": "stream",
     "text": [
      "/opt/anaconda3/lib/python3.7/site-packages/pandas/core/frame.py:3997: SettingWithCopyWarning: \n",
      "A value is trying to be set on a copy of a slice from a DataFrame\n",
      "\n",
      "See the caveats in the documentation: https://pandas.pydata.org/pandas-docs/stable/user_guide/indexing.html#returning-a-view-versus-a-copy\n",
      "  errors=errors,\n"
     ]
    },
    {
     "data": {
      "text/plain": [
       "(2229, 42)"
      ]
     },
     "execution_count": 41,
     "metadata": {},
     "output_type": "execute_result"
    }
   ],
   "source": [
    "# Import pacakges\n",
    "import numpy as np\n",
    "import pandas as pd\n",
    "from sklearn.preprocessing import OneHotEncoder\n",
    "from sklearn.model_selection import train_test_split\n",
    "\n",
    "# Load dataset\n",
    "url_link = 'https://docs.google.com/spreadsheets/d/1TAWfdKnWYiCzKUeDyGL6NzIOv7AxFt_Sfzzax464_FQ/export?format=csv&gid=882919979'\n",
    "telco = pd.read_csv(url_link)\n",
    "\n",
    "# Drop nas\n",
    "teco_full = telco.dropna(inplace=True)\n",
    "\n",
    "# Train-test-split\n",
    "X_train, X_test, y_train, y_test = train_test_split(telco.drop(columns=['customerID','Churn']), np.where(telco.Churn ==\"Yes\", 1, 0), test_size=0.33, random_state=42)\n",
    "\n",
    "# Separate out numeric from categorical variables\n",
    "cat_var = telco.select_dtypes(include='object')\n",
    "cat_var.drop(columns=['customerID','Churn'], inplace = True)\n",
    "\n",
    "num_var = telco.select_dtypes(exclude = 'object') \n",
    "\n",
    "# Encode categorical variables\n",
    "ohc = OneHotEncoder(drop='first')\n",
    "encoded_cat = ohc.fit_transform(X_train[cat_var.columns.tolist()]).toarray()\n",
    "\n",
    "# Add feature names to encoded vars\n",
    "encoded=pd.DataFrame(encoded_cat, columns=ohc.get_feature_names(cat_var.columns.tolist()))\n",
    "encoded.reset_index(inplace=True, drop=True)\n",
    "X_train.reset_index(inplace=True, drop=True)\n",
    "\n",
    "# Reassemble entire training dataset\n",
    "clean_X_train = pd.concat([X_train[num_var.columns.tolist()] , encoded], axis=1,  sort=False)\n",
    "clean_X_train.shape"
   ]
  },
  {
   "cell_type": "code",
   "execution_count": 42,
   "metadata": {},
   "outputs": [],
   "source": [
    "encoded_cat = ohc.transform(X_test[cat_var.columns.tolist()]).toarray()\n",
    "# Add feature names to encoded vars\n",
    "encoded=pd.DataFrame(encoded_cat, columns=ohc.get_feature_names(cat_var.columns.tolist()))\n",
    "encoded.reset_index(inplace=True, drop=True)\n",
    "X_test.reset_index(inplace=True, drop=True)\n",
    "# Reassemble entire training dataset\n",
    "clean_X_test = pd.concat([X_test[num_var.columns.tolist()] , encoded], axis=1,  sort=False)"
   ]
  },
  {
   "cell_type": "code",
   "execution_count": 2,
   "metadata": {
    "scrolled": true
   },
   "outputs": [
    {
     "data": {
      "text/plain": [
       "Index(['SeniorCitizen', 'tenure', 'NumbervMailMessages', 'TotalDayMinutes',\n",
       "       'TotalDayCalls', 'TotalEveMinutes', 'TotalEveCalls',\n",
       "       'TotalNightMinutes', 'TotalNightCalls', 'TotalIntlMinutes',\n",
       "       'TotalIntlCalls', 'CustomerServiceCalls', 'TotalCall',\n",
       "       'TotalHighBandwidthMinutes', 'TotalHighLatencyMinutes', 'TotalRevenue',\n",
       "       'gender_Male', 'MaritalStatus_Yes', 'Dependents_Yes',\n",
       "       'MultipleLines_Yes', 'InternetService_Fiber optic',\n",
       "       'InternetService_No', 'OnlineSecurity_No internet service',\n",
       "       'OnlineSecurity_Yes', 'OnlineBackup_No internet service',\n",
       "       'OnlineBackup_Yes', 'DeviceProtection_No internet service',\n",
       "       'DeviceProtection_Yes', 'TechSupport_No internet service',\n",
       "       'TechSupport_Yes', 'StreamingTV_No internet service', 'StreamingTV_Yes',\n",
       "       'StreamingMovies_No internet service', 'StreamingMovies_Yes',\n",
       "       'Contract_One year', 'Contract_Two year', 'PaperlessBilling_Yes',\n",
       "       'PaymentMethod_Credit card (automatic)',\n",
       "       'PaymentMethod_Electronic check', 'PaymentMethod_Mailed check',\n",
       "       'InternationalPlan_Yes', 'VoiceMailPlan_Yes'],\n",
       "      dtype='object')"
      ]
     },
     "execution_count": 2,
     "metadata": {},
     "output_type": "execute_result"
    }
   ],
   "source": [
    "clean_X_train.columns"
   ]
  },
  {
   "cell_type": "code",
   "execution_count": 20,
   "metadata": {},
   "outputs": [],
   "source": [
    "clean_X_train_full = clean_X_train"
   ]
  },
  {
   "cell_type": "code",
   "execution_count": 21,
   "metadata": {
    "scrolled": true
   },
   "outputs": [],
   "source": [
    "clean_X_train_full['churn2'] = y_train"
   ]
  },
  {
   "cell_type": "code",
   "execution_count": 27,
   "metadata": {},
   "outputs": [
    {
     "data": {
      "text/plain": [
       "0.1911170928667564"
      ]
     },
     "execution_count": 27,
     "metadata": {},
     "output_type": "execute_result"
    }
   ],
   "source": [
    "len(clean_X_train_full.loc[clean_X_train_full['churn2'] == 1]) / len(clean_X_train_full)  #model-less baseline"
   ]
  },
  {
   "cell_type": "markdown",
   "metadata": {},
   "source": [
    "## Part 5: Create models"
   ]
  },
  {
   "cell_type": "code",
   "execution_count": 43,
   "metadata": {},
   "outputs": [],
   "source": [
    "from sklearn.preprocessing import StandardScaler\n",
    "from sklearn.metrics import plot_confusion_matrix, accuracy_score, precision_score, recall_score, f1_score\n",
    "from sklearn.linear_model import LogisticRegression"
   ]
  },
  {
   "cell_type": "code",
   "execution_count": 44,
   "metadata": {},
   "outputs": [],
   "source": [
    "scaler = StandardScaler()\n",
    "X_train_scaled = scaler.fit_transform(clean_X_train)\n",
    "X_test_scaled = scaler.transform(clean_X_test)"
   ]
  },
  {
   "cell_type": "code",
   "execution_count": 48,
   "metadata": {},
   "outputs": [
    {
     "data": {
      "text/plain": [
       "LogisticRegression(C=1.0, class_weight=None, dual=False, fit_intercept=True,\n",
       "                   intercept_scaling=1, l1_ratio=None, max_iter=100,\n",
       "                   multi_class='auto', n_jobs=None, penalty='l2',\n",
       "                   random_state=None, solver='lbfgs', tol=0.0001, verbose=0,\n",
       "                   warm_start=False)"
      ]
     },
     "execution_count": 48,
     "metadata": {},
     "output_type": "execute_result"
    }
   ],
   "source": [
    "vanilla_mod = LogisticRegression()\n",
    "vanilla_mod.fit(X_train_scaled, y_train)"
   ]
  },
  {
   "cell_type": "code",
   "execution_count": 50,
   "metadata": {
    "scrolled": true
   },
   "outputs": [
    {
     "data": {
      "text/plain": [
       "<sklearn.metrics._plot.confusion_matrix.ConfusionMatrixDisplay at 0x7fb8a5c6dc50>"
      ]
     },
     "execution_count": 50,
     "metadata": {},
     "output_type": "execute_result"
    },
    {
     "data": {
      "image/png": "[encoded data removed]",
      "text/plain": [
       "<Figure size 432x288 with 2 Axes>"
      ]
     },
     "metadata": {
      "needs_background": "light"
     },
     "output_type": "display_data"
    }
   ],
   "source": [
    "import matplotlib.pyplot as plt\n",
    "import seaborn as sns\n",
    "\n",
    "plot_confusion_matrix(vanilla_mod, X_test_scaled, y_test,\n",
    "                      cmap=plt.cm.Blues, # Changing the color scheme\n",
    "                      values_format=\".3g\")"
   ]
  },
  {
   "cell_type": "code",
   "execution_count": 51,
   "metadata": {},
   "outputs": [],
   "source": [
    "y_pred_train = vanilla_mod.predict(X_train_scaled)\n",
    "y_pred_test = vanilla_mod.predict(X_test_scaled)"
   ]
  },
  {
   "cell_type": "code",
   "execution_count": 52,
   "metadata": {},
   "outputs": [
    {
     "name": "stdout",
     "output_type": "stream",
     "text": [
      "Accuracy:\n",
      "========\n",
      "TRAIN: 0.8694\n",
      "TEST: 0.8471\n",
      "***************\n",
      "Recall:\n",
      "======\n",
      "TRAIN: 0.5399\n",
      "TEST: 0.5066\n",
      "***************\n",
      "Precision:\n",
      "=========\n",
      "TRAIN: 0.7077\n",
      "TEST: 0.6725\n",
      "***************\n",
      "F1-Score:\n",
      "========\n",
      "TRAIN: 0.6125\n",
      "TEST: 0.5779\n",
      "***************\n"
     ]
    }
   ],
   "source": [
    "metrics = {\"Accuracy\": accuracy_score,\n",
    "           \"Recall\": recall_score,\n",
    "           \"Precision\": precision_score,\n",
    "           \"F1-Score\": f1_score}\n",
    "\n",
    "for name, metric in metrics.items():\n",
    "    print(f\"{name}:\"); print(\"=\"*len(name))\n",
    "    print(f\"TRAIN: {metric(y_train, y_pred_train):.4f}\")\n",
    "    print(f\"TEST: {metric(y_test, y_pred_test):.4f}\")\n",
    "    print(\"*\" * 15)"
   ]
  },
  {
   "cell_type": "code",
   "execution_count": 56,
   "metadata": {},
   "outputs": [
    {
     "name": "stdout",
     "output_type": "stream",
     "text": [
      "AUC: 0.899825203087742\n"
     ]
    }
   ],
   "source": [
    "from sklearn.metrics import roc_curve, auc\n",
    "y_score = vanilla_mod.decision_function(X_test_scaled)\n",
    "fpr, tpr, thresholds = roc_curve(y_test, y_score)\n",
    "print('AUC: {}'.format(auc(fpr, tpr)))"
   ]
  },
  {
   "cell_type": "markdown",
   "metadata": {},
   "source": [
    "## Part 6: Pick model & find best threshold"
   ]
  },
  {
   "cell_type": "code",
   "execution_count": 58,
   "metadata": {},
   "outputs": [
    {
     "data": {
      "text/plain": [
       "LogisticRegression(C=1.0, class_weight='balanced', dual=False,\n",
       "                   fit_intercept=True, intercept_scaling=1, l1_ratio=None,\n",
       "                   max_iter=100, multi_class='auto', n_jobs=None, penalty='l2',\n",
       "                   random_state=None, solver='lbfgs', tol=0.0001, verbose=0,\n",
       "                   warm_start=False)"
      ]
     },
     "execution_count": 58,
     "metadata": {},
     "output_type": "execute_result"
    }
   ],
   "source": [
    "vanilla_mod_b = LogisticRegression(class_weight = 'balanced')\n",
    "vanilla_mod_b.fit(X_train_scaled, y_train)"
   ]
  },
  {
   "cell_type": "code",
   "execution_count": 60,
   "metadata": {},
   "outputs": [
    {
     "data": {
      "text/plain": [
       "<sklearn.metrics._plot.confusion_matrix.ConfusionMatrixDisplay at 0x7fb8a4f6ad90>"
      ]
     },
     "execution_count": 60,
     "metadata": {},
     "output_type": "execute_result"
    },
    {
     "data": {
      "image/png": "[encoded data removed]",
      "text/plain": [
       "<Figure size 432x288 with 2 Axes>"
      ]
     },
     "metadata": {
      "needs_background": "light"
     },
     "output_type": "display_data"
    }
   ],
   "source": [
    "import matplotlib.pyplot as plt\n",
    "import seaborn as sns\n",
    "\n",
    "plot_confusion_matrix(vanilla_mod_b, X_test_scaled, y_test,\n",
    "                      cmap=plt.cm.Blues, # Changing the color scheme\n",
    "                      values_format=\".3g\")"
   ]
  },
  {
   "cell_type": "code",
   "execution_count": 62,
   "metadata": {},
   "outputs": [],
   "source": [
    "y_pred_train = vanilla_mod_b.predict(X_train_scaled)\n",
    "y_pred_test = vanilla_mod_b.predict(X_test_scaled)"
   ]
  },
  {
   "cell_type": "code",
   "execution_count": 63,
   "metadata": {},
   "outputs": [
    {
     "name": "stdout",
     "output_type": "stream",
     "text": [
      "Accuracy:\n",
      "========\n",
      "TRAIN: 0.8214\n",
      "TEST: 0.8153\n",
      "***************\n",
      "Recall:\n",
      "======\n",
      "TRAIN: 0.8779\n",
      "TEST: 0.8767\n",
      "***************\n",
      "Precision:\n",
      "=========\n",
      "TRAIN: 0.5194\n",
      "TEST: 0.5321\n",
      "***************\n",
      "F1-Score:\n",
      "========\n",
      "TRAIN: 0.6527\n",
      "TEST: 0.6622\n",
      "***************\n"
     ]
    }
   ],
   "source": [
    "metrics = {\"Accuracy\": accuracy_score,\n",
    "           \"Recall\": recall_score,\n",
    "           \"Precision\": precision_score,\n",
    "           \"F1-Score\": f1_score}\n",
    "\n",
    "for name, metric in metrics.items():\n",
    "    print(f\"{name}:\"); print(\"=\"*len(name))\n",
    "    print(f\"TRAIN: {metric(y_train, y_pred_train):.4f}\")\n",
    "    print(f\"TEST: {metric(y_test, y_pred_test):.4f}\")\n",
    "    print(\"*\" * 15)"
   ]
  },
  {
   "cell_type": "code",
   "execution_count": 73,
   "metadata": {},
   "outputs": [
    {
     "name": "stdout",
     "output_type": "stream",
     "text": [
      "LogisticRegression(C=0.001, class_weight=None, dual=False, fit_intercept=False,\n",
      "                   intercept_scaling=1, l1_ratio=None, max_iter=100,\n",
      "                   multi_class='auto', n_jobs=None, penalty='l1',\n",
      "                   random_state=None, solver='liblinear', tol=0.0001, verbose=0,\n",
      "                   warm_start=False)\n",
      "AUC for 0.001: 0.5\n",
      "-------------------------------------------------------\n",
      "LogisticRegression(C=0.01, class_weight=None, dual=False, fit_intercept=False,\n",
      "                   intercept_scaling=1, l1_ratio=None, max_iter=100,\n",
      "                   multi_class='auto', n_jobs=None, penalty='l1',\n",
      "                   random_state=None, solver='liblinear', tol=0.0001, verbose=0,\n",
      "                   warm_start=False)\n",
      "AUC for 0.01: 0.8702208705492462\n",
      "-------------------------------------------------------\n",
      "LogisticRegression(C=0.1, class_weight=None, dual=False, fit_intercept=False,\n",
      "                   intercept_scaling=1, l1_ratio=None, max_iter=100,\n",
      "                   multi_class='auto', n_jobs=None, penalty='l1',\n",
      "                   random_state=None, solver='liblinear', tol=0.0001, verbose=0,\n",
      "                   warm_start=False)\n",
      "AUC for 0.1: 0.8901406458392273\n",
      "-------------------------------------------------------\n",
      "LogisticRegression(C=1, class_weight=None, dual=False, fit_intercept=False,\n",
      "                   intercept_scaling=1, l1_ratio=None, max_iter=100,\n",
      "                   multi_class='auto', n_jobs=None, penalty='l1',\n",
      "                   random_state=None, solver='liblinear', tol=0.0001, verbose=0,\n",
      "                   warm_start=False)\n",
      "AUC for 1: 0.8895293618397122\n",
      "-------------------------------------------------------\n",
      "LogisticRegression(C=10, class_weight=None, dual=False, fit_intercept=False,\n",
      "                   intercept_scaling=1, l1_ratio=None, max_iter=100,\n",
      "                   multi_class='auto', n_jobs=None, penalty='l1',\n",
      "                   random_state=None, solver='liblinear', tol=0.0001, verbose=0,\n",
      "                   warm_start=False)\n",
      "AUC for 10: 0.8892464535424162\n",
      "-------------------------------------------------------\n",
      "LogisticRegression(C=100, class_weight=None, dual=False, fit_intercept=False,\n",
      "                   intercept_scaling=1, l1_ratio=None, max_iter=100,\n",
      "                   multi_class='auto', n_jobs=None, penalty='l1',\n",
      "                   random_state=None, solver='liblinear', tol=0.0001, verbose=0,\n",
      "                   warm_start=False)\n",
      "AUC for 100: 0.8892515054762963\n",
      "-------------------------------------------------------\n"
     ]
    },
    {
     "data": {
      "image/png": "[encoded data removed]",
      "text/plain": [
       "<Figure size 720x576 with 1 Axes>"
      ]
     },
     "metadata": {
      "needs_background": "light"
     },
     "output_type": "display_data"
    }
   ],
   "source": [
    "# Now let's compare a few different regularization performances on the dataset:\n",
    "C_param_range = [0.001, 0.01, 0.1, 1, 10, 100]\n",
    "names = [0.001, 0.01, 0.1, 1, 10, 100]\n",
    "colors = sns.color_palette('Set2')\n",
    "\n",
    "plt.figure(figsize=(10, 8))\n",
    "\n",
    "for n, c in enumerate(C_param_range):\n",
    "    # Fit a model\n",
    "    logreg = LogisticRegression(penalty='l1', fit_intercept = False, C = c, solver='liblinear')\n",
    "    model_log = logreg.fit(X_train_scaled, y_train)\n",
    "    print(model_log) # Preview model params\n",
    "\n",
    "    # Predict\n",
    "    y_predict_test = logreg.predict(X_test_scaled)\n",
    "\n",
    "    y_score = model_log.decision_function(X_test_scaled)\n",
    "\n",
    "    fpr, tpr, thresholds = roc_curve(y_test, y_score)\n",
    "    \n",
    "    print('AUC for {}: {}'.format(names[n], auc(fpr, tpr)))\n",
    "    print('-------------------------------------------------------')\n",
    "    lw = 2\n",
    "    plt.plot(fpr, tpr, color=colors[n],\n",
    "             lw=lw, label='ROC curve Normalization Weight: {}'.format(names[n]))\n",
    "\n",
    "plt.plot([0, 1], [0, 1], color='navy', lw=lw, linestyle='--')\n",
    "plt.xlim([0.0, 1.0])\n",
    "plt.ylim([0.0, 1.05])\n",
    "\n",
    "plt.yticks([i/20.0 for i in range(21)])\n",
    "plt.xticks([i/20.0 for i in range(21)])\n",
    "plt.xlabel('False Positive Rate')\n",
    "plt.ylabel('True Positive Rate')\n",
    "plt.title('Receiver operating characteristic (ROC) Curve')\n",
    "plt.legend(loc='lower right')\n",
    "plt.show()"
   ]
  },
  {
   "cell_type": "markdown",
   "metadata": {},
   "source": [
    "## New Features"
   ]
  },
  {
   "cell_type": "code",
   "execution_count": 76,
   "metadata": {},
   "outputs": [],
   "source": [
    "clean_X_train2 = clean_X_train\n",
    "columns = ['TotalDayCalls', 'TotalEveCalls','TotalNightCalls', 'TotalIntlCalls', 'CustomerServiceCalls', 'TotalCall','TotalRevenue']\n",
    "new_columns = ['TotalDayCalls_month', 'TotalEveCalls_month','TotalNightCalls_month', 'TotalIntlCalls_month', 'CustomerServiceCalls_month', 'TotalCall_month','TotalRevenue_month']\n",
    "for v, column in enumerate(new_columns):\n",
    "    clean_X_train2[column] = (clean_X_train2.iloc[ : , v]) / (clean_X_train2['tenure'])\n",
    "\n",
    "clean_X_test2 = clean_X_test\n",
    "columns = ['TotalDayCalls', 'TotalEveCalls','TotalNightCalls', 'TotalIntlCalls', 'CustomerServiceCalls', 'TotalCall','TotalRevenue']\n",
    "new_columns = ['TotalDayCalls_month', 'TotalEveCalls_month','TotalNightCalls_month', 'TotalIntlCalls_month', 'CustomerServiceCalls_month', 'TotalCall_month','TotalRevenue_month']\n",
    "for v, column in enumerate(new_columns):\n",
    "    clean_X_test2[column] = (clean_X_test2.iloc[ : , v]) / (clean_X_test2['tenure'])"
   ]
  },
  {
   "cell_type": "code",
   "execution_count": 77,
   "metadata": {},
   "outputs": [],
   "source": [
    "X_train2_scaled = scaler.fit_transform(clean_X_train2)\n",
    "X_test2_scaled = scaler.transform(clean_X_test2)"
   ]
  },
  {
   "cell_type": "code",
   "execution_count": 78,
   "metadata": {},
   "outputs": [
    {
     "data": {
      "text/plain": [
       "LogisticRegression(C=1.0, class_weight='balanced', dual=False,\n",
       "                   fit_intercept=True, intercept_scaling=1, l1_ratio=None,\n",
       "                   max_iter=100, multi_class='auto', n_jobs=None, penalty='l2',\n",
       "                   random_state=None, solver='lbfgs', tol=0.0001, verbose=0,\n",
       "                   warm_start=False)"
      ]
     },
     "execution_count": 78,
     "metadata": {},
     "output_type": "execute_result"
    }
   ],
   "source": [
    "vanilla_mod_b2 = LogisticRegression(class_weight = 'balanced')\n",
    "vanilla_mod_b2.fit(X_train2_scaled, y_train)"
   ]
  },
  {
   "cell_type": "code",
   "execution_count": 79,
   "metadata": {},
   "outputs": [
    {
     "data": {
      "text/plain": [
       "<sklearn.metrics._plot.confusion_matrix.ConfusionMatrixDisplay at 0x7fb8a6255810>"
      ]
     },
     "execution_count": 79,
     "metadata": {},
     "output_type": "execute_result"
    },
    {
     "data": {
      "image/png": "[encoded data removed]",
      "text/plain": [
       "<Figure size 432x288 with 2 Axes>"
      ]
     },
     "metadata": {
      "needs_background": "light"
     },
     "output_type": "display_data"
    }
   ],
   "source": [
    "plot_confusion_matrix(vanilla_mod_b2, X_test2_scaled, y_test,\n",
    "                      cmap=plt.cm.Blues, # Changing the color scheme\n",
    "                      values_format=\".3g\")"
   ]
  },
  {
   "cell_type": "code",
   "execution_count": 80,
   "metadata": {},
   "outputs": [],
   "source": [
    "y_pred_train2 = vanilla_mod_b2.predict(X_train2_scaled)\n",
    "y_pred_test2 = vanilla_mod_b2.predict(X_test2_scaled)"
   ]
  },
  {
   "cell_type": "code",
   "execution_count": 81,
   "metadata": {},
   "outputs": [
    {
     "name": "stdout",
     "output_type": "stream",
     "text": [
      "Accuracy:\n",
      "========\n",
      "TRAIN: 0.8237\n",
      "TEST: 0.8189\n",
      "***************\n",
      "Recall:\n",
      "======\n",
      "TRAIN: 0.8732\n",
      "TEST: 0.8811\n",
      "***************\n",
      "Precision:\n",
      "=========\n",
      "TRAIN: 0.5232\n",
      "TEST: 0.5376\n",
      "***************\n",
      "F1-Score:\n",
      "========\n",
      "TRAIN: 0.6544\n",
      "TEST: 0.6678\n",
      "***************\n"
     ]
    }
   ],
   "source": [
    "metrics = {\"Accuracy\": accuracy_score,\n",
    "           \"Recall\": recall_score,\n",
    "           \"Precision\": precision_score,\n",
    "           \"F1-Score\": f1_score}\n",
    "\n",
    "for name, metric in metrics.items():\n",
    "    print(f\"{name}:\"); print(\"=\"*len(name))\n",
    "    print(f\"TRAIN: {metric(y_train, y_pred_train2):.4f}\")\n",
    "    print(f\"TEST: {metric(y_test, y_pred_test2):.4f}\")\n",
    "    print(\"*\" * 15)"
   ]
  },
  {
   "cell_type": "markdown",
   "metadata": {},
   "source": [
    "## Part 7: What drives churn?"
   ]
  },
  {
   "cell_type": "code",
   "execution_count": 86,
   "metadata": {},
   "outputs": [
    {
     "data": {
      "text/html": [
       "<div>\n",
       "<style scoped>\n",
       "    .dataframe tbody tr th:only-of-type {\n",
       "        vertical-align: middle;\n",
       "    }\n",
       "\n",
       "    .dataframe tbody tr th {\n",
       "        vertical-align: top;\n",
       "    }\n",
       "\n",
       "    .dataframe thead th {\n",
       "        text-align: right;\n",
       "    }\n",
       "</style>\n",
       "<table border=\"1\" class=\"dataframe\">\n",
       "  <thead>\n",
       "    <tr style=\"text-align: right;\">\n",
       "      <th></th>\n",
       "      <th>Coef</th>\n",
       "    </tr>\n",
       "  </thead>\n",
       "  <tbody>\n",
       "    <tr>\n",
       "      <th>StreamingMovies_Yes</th>\n",
       "      <td>0.667275</td>\n",
       "    </tr>\n",
       "    <tr>\n",
       "      <th>CustomerServiceCalls</th>\n",
       "      <td>0.534806</td>\n",
       "    </tr>\n",
       "    <tr>\n",
       "      <th>InternetService_Fiber optic</th>\n",
       "      <td>0.496305</td>\n",
       "    </tr>\n",
       "    <tr>\n",
       "      <th>TotalDayMinutes</th>\n",
       "      <td>0.491648</td>\n",
       "    </tr>\n",
       "    <tr>\n",
       "      <th>CustomerServiceCalls_month</th>\n",
       "      <td>0.406707</td>\n",
       "    </tr>\n",
       "    <tr>\n",
       "      <th>InternationalPlan_Yes</th>\n",
       "      <td>0.402982</td>\n",
       "    </tr>\n",
       "    <tr>\n",
       "      <th>TotalEveMinutes</th>\n",
       "      <td>0.294706</td>\n",
       "    </tr>\n",
       "    <tr>\n",
       "      <th>TotalHighLatencyMinutes</th>\n",
       "      <td>0.213037</td>\n",
       "    </tr>\n",
       "    <tr>\n",
       "      <th>PaperlessBilling_Yes</th>\n",
       "      <td>0.211821</td>\n",
       "    </tr>\n",
       "    <tr>\n",
       "      <th>TotalNightMinutes</th>\n",
       "      <td>0.154906</td>\n",
       "    </tr>\n",
       "    <tr>\n",
       "      <th>TotalIntlMinutes</th>\n",
       "      <td>0.152656</td>\n",
       "    </tr>\n",
       "    <tr>\n",
       "      <th>TechSupport_Yes</th>\n",
       "      <td>0.129548</td>\n",
       "    </tr>\n",
       "    <tr>\n",
       "      <th>TotalRevenue_month</th>\n",
       "      <td>0.126556</td>\n",
       "    </tr>\n",
       "    <tr>\n",
       "      <th>DeviceProtection_Yes</th>\n",
       "      <td>0.123481</td>\n",
       "    </tr>\n",
       "    <tr>\n",
       "      <th>TotalIntlCalls_month</th>\n",
       "      <td>0.091507</td>\n",
       "    </tr>\n",
       "    <tr>\n",
       "      <th>SeniorCitizen</th>\n",
       "      <td>0.090875</td>\n",
       "    </tr>\n",
       "    <tr>\n",
       "      <th>NumbervMailMessages</th>\n",
       "      <td>0.077189</td>\n",
       "    </tr>\n",
       "    <tr>\n",
       "      <th>TotalNightCalls_month</th>\n",
       "      <td>0.069854</td>\n",
       "    </tr>\n",
       "    <tr>\n",
       "      <th>OnlineBackup_Yes</th>\n",
       "      <td>0.067525</td>\n",
       "    </tr>\n",
       "    <tr>\n",
       "      <th>TotalDayCalls</th>\n",
       "      <td>0.063542</td>\n",
       "    </tr>\n",
       "    <tr>\n",
       "      <th>PaymentMethod_Electronic check</th>\n",
       "      <td>0.043848</td>\n",
       "    </tr>\n",
       "    <tr>\n",
       "      <th>Dependents_Yes</th>\n",
       "      <td>0.025111</td>\n",
       "    </tr>\n",
       "    <tr>\n",
       "      <th>TotalEveCalls_month</th>\n",
       "      <td>0.000000</td>\n",
       "    </tr>\n",
       "    <tr>\n",
       "      <th>gender_Male</th>\n",
       "      <td>-0.009616</td>\n",
       "    </tr>\n",
       "    <tr>\n",
       "      <th>TotalCall</th>\n",
       "      <td>-0.016571</td>\n",
       "    </tr>\n",
       "    <tr>\n",
       "      <th>MaritalStatus_Yes</th>\n",
       "      <td>-0.023851</td>\n",
       "    </tr>\n",
       "    <tr>\n",
       "      <th>TotalIntlCalls</th>\n",
       "      <td>-0.026086</td>\n",
       "    </tr>\n",
       "    <tr>\n",
       "      <th>StreamingTV_No internet service</th>\n",
       "      <td>-0.027970</td>\n",
       "    </tr>\n",
       "    <tr>\n",
       "      <th>StreamingMovies_No internet service</th>\n",
       "      <td>-0.027970</td>\n",
       "    </tr>\n",
       "    <tr>\n",
       "      <th>TechSupport_No internet service</th>\n",
       "      <td>-0.027970</td>\n",
       "    </tr>\n",
       "    <tr>\n",
       "      <th>OnlineSecurity_No internet service</th>\n",
       "      <td>-0.027970</td>\n",
       "    </tr>\n",
       "    <tr>\n",
       "      <th>InternetService_No</th>\n",
       "      <td>-0.027970</td>\n",
       "    </tr>\n",
       "    <tr>\n",
       "      <th>OnlineBackup_No internet service</th>\n",
       "      <td>-0.027970</td>\n",
       "    </tr>\n",
       "    <tr>\n",
       "      <th>DeviceProtection_No internet service</th>\n",
       "      <td>-0.027970</td>\n",
       "    </tr>\n",
       "    <tr>\n",
       "      <th>OnlineSecurity_Yes</th>\n",
       "      <td>-0.051312</td>\n",
       "    </tr>\n",
       "    <tr>\n",
       "      <th>TotalEveCalls</th>\n",
       "      <td>-0.053932</td>\n",
       "    </tr>\n",
       "    <tr>\n",
       "      <th>TotalNightCalls</th>\n",
       "      <td>-0.073428</td>\n",
       "    </tr>\n",
       "    <tr>\n",
       "      <th>TotalDayCalls_month</th>\n",
       "      <td>-0.089486</td>\n",
       "    </tr>\n",
       "    <tr>\n",
       "      <th>TotalRevenue</th>\n",
       "      <td>-0.111123</td>\n",
       "    </tr>\n",
       "    <tr>\n",
       "      <th>tenure</th>\n",
       "      <td>-0.134165</td>\n",
       "    </tr>\n",
       "    <tr>\n",
       "      <th>StreamingTV_Yes</th>\n",
       "      <td>-0.153513</td>\n",
       "    </tr>\n",
       "    <tr>\n",
       "      <th>PaymentMethod_Credit card (automatic)</th>\n",
       "      <td>-0.157743</td>\n",
       "    </tr>\n",
       "    <tr>\n",
       "      <th>MultipleLines_Yes</th>\n",
       "      <td>-0.161795</td>\n",
       "    </tr>\n",
       "    <tr>\n",
       "      <th>PaymentMethod_Mailed check</th>\n",
       "      <td>-0.169495</td>\n",
       "    </tr>\n",
       "    <tr>\n",
       "      <th>TotalHighBandwidthMinutes</th>\n",
       "      <td>-0.185520</td>\n",
       "    </tr>\n",
       "    <tr>\n",
       "      <th>TotalCall_month</th>\n",
       "      <td>-0.254777</td>\n",
       "    </tr>\n",
       "    <tr>\n",
       "      <th>VoiceMailPlan_Yes</th>\n",
       "      <td>-0.662624</td>\n",
       "    </tr>\n",
       "    <tr>\n",
       "      <th>Contract_One year</th>\n",
       "      <td>-0.915252</td>\n",
       "    </tr>\n",
       "    <tr>\n",
       "      <th>Contract_Two year</th>\n",
       "      <td>-1.547779</td>\n",
       "    </tr>\n",
       "  </tbody>\n",
       "</table>\n",
       "</div>"
      ],
      "text/plain": [
       "                                           Coef\n",
       "StreamingMovies_Yes                    0.667275\n",
       "CustomerServiceCalls                   0.534806\n",
       "InternetService_Fiber optic            0.496305\n",
       "TotalDayMinutes                        0.491648\n",
       "CustomerServiceCalls_month             0.406707\n",
       "InternationalPlan_Yes                  0.402982\n",
       "TotalEveMinutes                        0.294706\n",
       "TotalHighLatencyMinutes                0.213037\n",
       "PaperlessBilling_Yes                   0.211821\n",
       "TotalNightMinutes                      0.154906\n",
       "TotalIntlMinutes                       0.152656\n",
       "TechSupport_Yes                        0.129548\n",
       "TotalRevenue_month                     0.126556\n",
       "DeviceProtection_Yes                   0.123481\n",
       "TotalIntlCalls_month                   0.091507\n",
       "SeniorCitizen                          0.090875\n",
       "NumbervMailMessages                    0.077189\n",
       "TotalNightCalls_month                  0.069854\n",
       "OnlineBackup_Yes                       0.067525\n",
       "TotalDayCalls                          0.063542\n",
       "PaymentMethod_Electronic check         0.043848\n",
       "Dependents_Yes                         0.025111\n",
       "TotalEveCalls_month                    0.000000\n",
       "gender_Male                           -0.009616\n",
       "TotalCall                             -0.016571\n",
       "MaritalStatus_Yes                     -0.023851\n",
       "TotalIntlCalls                        -0.026086\n",
       "StreamingTV_No internet service       -0.027970\n",
       "StreamingMovies_No internet service   -0.027970\n",
       "TechSupport_No internet service       -0.027970\n",
       "OnlineSecurity_No internet service    -0.027970\n",
       "InternetService_No                    -0.027970\n",
       "OnlineBackup_No internet service      -0.027970\n",
       "DeviceProtection_No internet service  -0.027970\n",
       "OnlineSecurity_Yes                    -0.051312\n",
       "TotalEveCalls                         -0.053932\n",
       "TotalNightCalls                       -0.073428\n",
       "TotalDayCalls_month                   -0.089486\n",
       "TotalRevenue                          -0.111123\n",
       "tenure                                -0.134165\n",
       "StreamingTV_Yes                       -0.153513\n",
       "PaymentMethod_Credit card (automatic) -0.157743\n",
       "MultipleLines_Yes                     -0.161795\n",
       "PaymentMethod_Mailed check            -0.169495\n",
       "TotalHighBandwidthMinutes             -0.185520\n",
       "TotalCall_month                       -0.254777\n",
       "VoiceMailPlan_Yes                     -0.662624\n",
       "Contract_One year                     -0.915252\n",
       "Contract_Two year                     -1.547779"
      ]
     },
     "execution_count": 86,
     "metadata": {},
     "output_type": "execute_result"
    }
   ],
   "source": [
    "# Check Coefficients\n",
    "coef_dict = {}\n",
    "for coef, feat in zip(list(vanilla_mod_b2.coef_[0]),clean_X_train2.columns.tolist()):\n",
    "    coef_dict[feat] = coef\n",
    "    \n",
    "# Convert to dataframe so you can sort it\n",
    "coef_df = pd.DataFrame.from_dict(coef_dict, columns =['Coef'], orient='index')\n",
    "coef_df.sort_values(by=['Coef'], ascending = False)"
   ]
  },
  {
   "cell_type": "markdown",
   "metadata": {},
   "source": []
  },
  {
   "cell_type": "markdown",
   "metadata": {},
   "source": [
    "## Part 8: What are your recommendations?"
   ]
  },
  {
   "cell_type": "markdown",
   "metadata": {},
   "source": [
    "### Findings"
   ]
  },
  {
   "cell_type": "markdown",
   "metadata": {},
   "source": [
    "- Account Information: pre-paid churned most, out of 1800 pre-paid customers in training data 426 churned total, 400 were month by monty, 23 were 2 year, 1 were 1 years contract\n",
    "- Payment method: not significant\n",
    "- Service engagement: StreamingMovies, CustomerServiceCalls by month, InternetService_Fiber optic, TotalDayMinutes, InternationalPlan, Voicemail\n",
    "\n"
   ]
  },
  {
   "cell_type": "markdown",
   "metadata": {},
   "source": [
    "### Recommendations"
   ]
  },
  {
   "cell_type": "markdown",
   "metadata": {},
   "source": [
    "- Sign up users as contract users upfront\n",
    "- Develop partnerships to enhance services such as movies streaming, 5G, International Plan \n",
    "- Review our customer service program to improve customer satisfaction"
   ]
  },
  {
   "cell_type": "markdown",
   "metadata": {},
   "source": [
    "### Next Steps: testing threshold"
   ]
  },
  {
   "cell_type": "code",
   "execution_count": 93,
   "metadata": {},
   "outputs": [],
   "source": [
    "import matplotlib.pyplot as plt\n",
    "from matplotlib.ticker import MaxNLocator\n",
    "%matplotlib inline\n",
    "from sklearn.pipeline import Pipeline"
   ]
  },
  {
   "cell_type": "code",
   "execution_count": 94,
   "metadata": {},
   "outputs": [],
   "source": [
    "y_train_pred_probs = vanilla_mod_b2.predict_proba(X_test2_scaled)[:, 1]"
   ]
  },
  {
   "cell_type": "code",
   "execution_count": 95,
   "metadata": {},
   "outputs": [
    {
     "ename": "NameError",
     "evalue": "name 'pipe' is not defined",
     "output_type": "error",
     "traceback": [
      "\u001b[0;31m---------------------------------------------------------------------------\u001b[0m",
      "\u001b[0;31mNameError\u001b[0m                                 Traceback (most recent call last)",
      "\u001b[0;32m<ipython-input-95-3d61ad2e9cb7>\u001b[0m in \u001b[0;36m<module>\u001b[0;34m\u001b[0m\n\u001b[1;32m      1\u001b[0m \u001b[0;31m# Transform X_test\u001b[0m\u001b[0;34m\u001b[0m\u001b[0;34m\u001b[0m\u001b[0;34m\u001b[0m\u001b[0m\n\u001b[0;32m----> 2\u001b[0;31m \u001b[0mX_test_transformed\u001b[0m \u001b[0;34m=\u001b[0m \u001b[0mpipe\u001b[0m\u001b[0;34m.\u001b[0m\u001b[0mtransform\u001b[0m\u001b[0;34m(\u001b[0m\u001b[0mX_test2_scaled\u001b[0m\u001b[0;34m)\u001b[0m\u001b[0;34m\u001b[0m\u001b[0;34m\u001b[0m\u001b[0m\n\u001b[0m\u001b[1;32m      3\u001b[0m \u001b[0;34m\u001b[0m\u001b[0m\n\u001b[1;32m      4\u001b[0m \u001b[0;31m# Get probabilites\u001b[0m\u001b[0;34m\u001b[0m\u001b[0;34m\u001b[0m\u001b[0;34m\u001b[0m\u001b[0m\n\u001b[1;32m      5\u001b[0m \u001b[0my_test_pred_probs\u001b[0m \u001b[0;34m=\u001b[0m \u001b[0mlgrg1\u001b[0m\u001b[0;34m.\u001b[0m\u001b[0mpredict_proba\u001b[0m\u001b[0;34m(\u001b[0m\u001b[0mX_test_transformed\u001b[0m\u001b[0;34m)\u001b[0m\u001b[0;34m[\u001b[0m\u001b[0;34m:\u001b[0m\u001b[0;34m,\u001b[0m \u001b[0;36m1\u001b[0m\u001b[0;34m]\u001b[0m\u001b[0;34m\u001b[0m\u001b[0;34m\u001b[0m\u001b[0m\n",
      "\u001b[0;31mNameError\u001b[0m: name 'pipe' is not defined"
     ]
    }
   ],
   "source": [
    "# Transform X_test\n",
    "X_test_transformed = pipe.transform(X_test2_scaled)\n",
    "\n",
    "# Get probabilites\n",
    "y_test_pred_probs = lgrg1.predict_proba(X_test_transformed)[:, 1]"
   ]
  },
  {
   "cell_type": "code",
   "execution_count": 89,
   "metadata": {},
   "outputs": [],
   "source": [
    "metrics_df = pd.DataFrame(columns=['threshold', 'train_acc', 'test_acc'])\n",
    "\n",
    "for x in np.arange(y_pred_train2.min(), y_pred_train2.max(), 0.01):\n",
    "    placeholder = []\n",
    "    threshold = x\n",
    "    y_pred_train = np.where(y_pred_train2 > x, 1, 0)\n",
    "    r_pred_test = np.where(y_pred_test > x, 1, 0)\n",
    "    train_rec = recall_score(y_train, y_pred_train2)\n",
    "    test_rec = recall_score(y_test, y_pred_test)\n",
    "    placeholder = [threshold, train_rec, test_rec]\n",
    "    sample_S = pd.Series(placeholder, index=[\n",
    "                         'threshold', 'train_rec', 'test_rec'])\n",
    "    metrics_df = metrics_df.append(sample_S, ignore_index=True)"
   ]
  },
  {
   "cell_type": "code",
   "execution_count": 96,
   "metadata": {},
   "outputs": [
    {
     "data": {
      "text/plain": [
       "<matplotlib.legend.Legend at 0x7fb8a6260490>"
      ]
     },
     "execution_count": 96,
     "metadata": {},
     "output_type": "execute_result"
    },
    {
     "data": {
      "image/png": "[encoded data removed]",
      "text/plain": [
       "<Figure size 936x936 with 1 Axes>"
      ]
     },
     "metadata": {
      "needs_background": "light"
     },
     "output_type": "display_data"
    }
   ],
   "source": [
    "plt.figure(figsize=(13, 13))\n",
    "plt.title(\"Search for Best Threshold using Accuracy\",\n",
    "          fontsize=16)\n",
    "\n",
    "plt.xlabel(\"Threshold\")\n",
    "plt.ylabel(\"Score\")\n",
    "plt.grid(True)\n",
    "\n",
    "ax = plt.gca()\n",
    "ax.set_xlim(y_pred_train2.min(), y_pred_train2.max())\n",
    "ax.set_ylim(0, 1)\n",
    "ax.xaxis.set_major_locator(MaxNLocator(20))\n",
    "ax.yaxis.set_major_locator(MaxNLocator(20))\n",
    "\n",
    "# Get the regular numpy array from the MaskedArray\n",
    "X_axis = np.array(metrics_df['threshold'].values, dtype=float)\n",
    "\n",
    "ax.plot(X_axis, metrics_df['train_rec'], ls='--',\n",
    "        color='g', label='Train Recall')\n",
    "ax.plot(X_axis, metrics_df['test_rec'], ls='-',\n",
    "        color='g', label='Test Recall')\n",
    "\n",
    "plt.legend()"
   ]
  },
  {
   "cell_type": "code",
   "execution_count": null,
   "metadata": {},
   "outputs": [],
   "source": []
  }
 ],
 "metadata": {
  "kernelspec": {
   "display_name": "Python 3",
   "language": "python",
   "name": "python3"
  },
  "language_info": {
   "codemirror_mode": {
    "name": "ipython",
    "version": 3
   },
   "file_extension": ".py",
   "mimetype": "text/x-python",
   "name": "python",
   "nbconvert_exporter": "python",
   "pygments_lexer": "ipython3",
   "version": "3.7.6"
  }
 },
 "nbformat": 4,
 "nbformat_minor": 4
}

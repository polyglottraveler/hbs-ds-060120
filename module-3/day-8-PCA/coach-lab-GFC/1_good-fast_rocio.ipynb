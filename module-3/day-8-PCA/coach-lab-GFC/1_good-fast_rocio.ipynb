{
 "cells": [
  {
   "cell_type": "markdown",
   "metadata": {},
   "source": [
    "# Good and Fast! (BreakoutRoom #1)\n",
    "\n",
    "This team can utilize all data and any model, but are limited to **only using 3 features** in their final model."
   ]
  },
  {
   "cell_type": "code",
   "execution_count": 1,
   "metadata": {},
   "outputs": [
    {
     "data": {
      "text/html": [
       "<div>\n",
       "<style scoped>\n",
       "    .dataframe tbody tr th:only-of-type {\n",
       "        vertical-align: middle;\n",
       "    }\n",
       "\n",
       "    .dataframe tbody tr th {\n",
       "        vertical-align: top;\n",
       "    }\n",
       "\n",
       "    .dataframe thead th {\n",
       "        text-align: right;\n",
       "    }\n",
       "</style>\n",
       "<table border=\"1\" class=\"dataframe\">\n",
       "  <thead>\n",
       "    <tr style=\"text-align: right;\">\n",
       "      <th></th>\n",
       "      <th>Pregnancies</th>\n",
       "      <th>Glucose</th>\n",
       "      <th>BloodPressure</th>\n",
       "      <th>SkinThickness</th>\n",
       "      <th>Insulin</th>\n",
       "      <th>BMI</th>\n",
       "      <th>DiabetesPedigreeFunction</th>\n",
       "      <th>Age</th>\n",
       "      <th>Outcome</th>\n",
       "    </tr>\n",
       "  </thead>\n",
       "  <tbody>\n",
       "    <tr>\n",
       "      <th>3</th>\n",
       "      <td>1</td>\n",
       "      <td>89</td>\n",
       "      <td>66</td>\n",
       "      <td>23</td>\n",
       "      <td>94</td>\n",
       "      <td>28.1</td>\n",
       "      <td>0.167</td>\n",
       "      <td>21</td>\n",
       "      <td>0</td>\n",
       "    </tr>\n",
       "    <tr>\n",
       "      <th>4</th>\n",
       "      <td>0</td>\n",
       "      <td>137</td>\n",
       "      <td>40</td>\n",
       "      <td>35</td>\n",
       "      <td>168</td>\n",
       "      <td>43.1</td>\n",
       "      <td>2.288</td>\n",
       "      <td>33</td>\n",
       "      <td>1</td>\n",
       "    </tr>\n",
       "    <tr>\n",
       "      <th>5</th>\n",
       "      <td>5</td>\n",
       "      <td>116</td>\n",
       "      <td>74</td>\n",
       "      <td>0</td>\n",
       "      <td>0</td>\n",
       "      <td>25.6</td>\n",
       "      <td>0.201</td>\n",
       "      <td>30</td>\n",
       "      <td>0</td>\n",
       "    </tr>\n",
       "    <tr>\n",
       "      <th>7</th>\n",
       "      <td>10</td>\n",
       "      <td>115</td>\n",
       "      <td>0</td>\n",
       "      <td>0</td>\n",
       "      <td>0</td>\n",
       "      <td>35.3</td>\n",
       "      <td>0.134</td>\n",
       "      <td>29</td>\n",
       "      <td>0</td>\n",
       "    </tr>\n",
       "    <tr>\n",
       "      <th>8</th>\n",
       "      <td>2</td>\n",
       "      <td>197</td>\n",
       "      <td>70</td>\n",
       "      <td>45</td>\n",
       "      <td>543</td>\n",
       "      <td>30.5</td>\n",
       "      <td>0.158</td>\n",
       "      <td>53</td>\n",
       "      <td>1</td>\n",
       "    </tr>\n",
       "  </tbody>\n",
       "</table>\n",
       "</div>"
      ],
      "text/plain": [
       "   Pregnancies  Glucose  BloodPressure  SkinThickness  Insulin   BMI  \\\n",
       "3            1       89             66             23       94  28.1   \n",
       "4            0      137             40             35      168  43.1   \n",
       "5            5      116             74              0        0  25.6   \n",
       "7           10      115              0              0        0  35.3   \n",
       "8            2      197             70             45      543  30.5   \n",
       "\n",
       "   DiabetesPedigreeFunction  Age  Outcome  \n",
       "3                     0.167   21        0  \n",
       "4                     2.288   33        1  \n",
       "5                     0.201   30        0  \n",
       "7                     0.134   29        0  \n",
       "8                     0.158   53        1  "
      ]
     },
     "execution_count": 1,
     "metadata": {},
     "output_type": "execute_result"
    }
   ],
   "source": [
    "import pandas as pd\n",
    "df = pd.read_csv('Diabetes_Data/diabetes_full_train.csv')\n",
    "df.head()"
   ]
  },
  {
   "cell_type": "code",
   "execution_count": 5,
   "metadata": {
    "scrolled": true
   },
   "outputs": [
    {
     "name": "stdout",
     "output_type": "stream",
     "text": [
      "<class 'pandas.core.frame.DataFrame'>\n",
      "Int64Index: 638 entries, 3 to 767\n",
      "Data columns (total 9 columns):\n",
      " #   Column                    Non-Null Count  Dtype  \n",
      "---  ------                    --------------  -----  \n",
      " 0   Pregnancies               638 non-null    int64  \n",
      " 1   Glucose                   638 non-null    int64  \n",
      " 2   BloodPressure             638 non-null    int64  \n",
      " 3   SkinThickness             638 non-null    int64  \n",
      " 4   Insulin                   638 non-null    int64  \n",
      " 5   BMI                       638 non-null    float64\n",
      " 6   DiabetesPedigreeFunction  638 non-null    float64\n",
      " 7   Age                       638 non-null    int64  \n",
      " 8   Outcome                   638 non-null    int64  \n",
      "dtypes: float64(2), int64(7)\n",
      "memory usage: 49.8 KB\n"
     ]
    }
   ],
   "source": [
    "df.info()"
   ]
  },
  {
   "cell_type": "code",
   "execution_count": 8,
   "metadata": {},
   "outputs": [
    {
     "data": {
      "text/plain": [
       "Index(['Pregnancies', 'Glucose', 'BloodPressure', 'SkinThickness', 'Insulin',\n",
       "       'BMI', 'DiabetesPedigreeFunction', 'Age', 'Outcome'],\n",
       "      dtype='object')"
      ]
     },
     "execution_count": 8,
     "metadata": {},
     "output_type": "execute_result"
    }
   ],
   "source": [
    "df.columns"
   ]
  },
  {
   "cell_type": "code",
   "execution_count": 4,
   "metadata": {},
   "outputs": [
    {
     "name": "stdout",
     "output_type": "stream",
     "text": [
      "1     111\n",
      "0      95\n",
      "2      85\n",
      "3      61\n",
      "4      59\n",
      "5      46\n",
      "6      42\n",
      "7      39\n",
      "8      29\n",
      "9      26\n",
      "10     20\n",
      "13      8\n",
      "11      7\n",
      "12      6\n",
      "14      2\n",
      "15      1\n",
      "17      1\n",
      "Name: Pregnancies, dtype: int64\n",
      "99     15\n",
      "129    12\n",
      "95     12\n",
      "112    12\n",
      "111    12\n",
      "       ..\n",
      "172     1\n",
      "169     1\n",
      "160     1\n",
      "159     1\n",
      "199     1\n",
      "Name: Glucose, Length: 132, dtype: int64\n",
      "70     52\n",
      "74     42\n",
      "72     37\n",
      "64     37\n",
      "78     36\n",
      "68     35\n",
      "60     34\n",
      "0      31\n",
      "76     30\n",
      "80     29\n",
      "62     28\n",
      "82     25\n",
      "66     23\n",
      "90     21\n",
      "88     19\n",
      "58     18\n",
      "86     17\n",
      "84     17\n",
      "54     10\n",
      "56     10\n",
      "50      9\n",
      "52      9\n",
      "92      8\n",
      "94      6\n",
      "65      6\n",
      "75      6\n",
      "85      6\n",
      "48      5\n",
      "44      4\n",
      "96      4\n",
      "106     3\n",
      "100     3\n",
      "108     2\n",
      "104     2\n",
      "46      2\n",
      "98      2\n",
      "30      2\n",
      "61      1\n",
      "55      1\n",
      "102     1\n",
      "110     1\n",
      "40      1\n",
      "38      1\n",
      "24      1\n",
      "122     1\n",
      "Name: BloodPressure, dtype: int64\n",
      "0     194\n",
      "32     27\n",
      "30     22\n",
      "27     19\n",
      "18     18\n",
      "23     18\n",
      "33     17\n",
      "28     16\n",
      "31     16\n",
      "22     15\n",
      "19     14\n",
      "39     14\n",
      "15     13\n",
      "26     13\n",
      "29     13\n",
      "36     13\n",
      "35     12\n",
      "25     12\n",
      "41     12\n",
      "40     12\n",
      "37     12\n",
      "17     11\n",
      "21     10\n",
      "20     10\n",
      "24     10\n",
      "42      8\n",
      "46      7\n",
      "13      6\n",
      "34      6\n",
      "43      6\n",
      "45      6\n",
      "12      5\n",
      "38      5\n",
      "10      5\n",
      "44      5\n",
      "14      5\n",
      "16      4\n",
      "11      4\n",
      "50      3\n",
      "49      3\n",
      "48      3\n",
      "8       2\n",
      "7       2\n",
      "47      2\n",
      "52      2\n",
      "54      2\n",
      "56      1\n",
      "51      1\n",
      "63      1\n",
      "99      1\n",
      "Name: SkinThickness, dtype: int64\n",
      "0      314\n",
      "140      9\n",
      "120      8\n",
      "130      7\n",
      "94       7\n",
      "      ... \n",
      "271      1\n",
      "112      1\n",
      "114      1\n",
      "270      1\n",
      "846      1\n",
      "Name: Insulin, Length: 168, dtype: int64\n",
      "31.2    11\n",
      "31.6    11\n",
      "32.0    10\n",
      "33.3     8\n",
      "32.9     8\n",
      "        ..\n",
      "36.7     1\n",
      "36.2     1\n",
      "48.8     1\n",
      "23.3     1\n",
      "36.0     1\n",
      "Name: BMI, Length: 230, dtype: int64\n",
      "0.268    5\n",
      "0.254    5\n",
      "0.238    5\n",
      "0.258    5\n",
      "0.207    4\n",
      "        ..\n",
      "0.400    1\n",
      "0.344    1\n",
      "0.346    1\n",
      "0.092    1\n",
      "0.375    1\n",
      "Name: DiabetesPedigreeFunction, Length: 449, dtype: int64\n",
      "22    60\n",
      "21    56\n",
      "25    42\n",
      "24    40\n",
      "23    34\n",
      "28    32\n",
      "26    26\n",
      "29    23\n",
      "27    22\n",
      "41    18\n",
      "31    17\n",
      "37    16\n",
      "30    16\n",
      "45    14\n",
      "33    14\n",
      "36    14\n",
      "42    14\n",
      "32    13\n",
      "38    13\n",
      "39    11\n",
      "34    10\n",
      "40    10\n",
      "46    10\n",
      "43     9\n",
      "35     8\n",
      "50     7\n",
      "44     6\n",
      "51     6\n",
      "52     6\n",
      "58     6\n",
      "47     6\n",
      "57     5\n",
      "49     5\n",
      "53     5\n",
      "54     5\n",
      "63     4\n",
      "48     4\n",
      "55     4\n",
      "56     3\n",
      "59     3\n",
      "60     3\n",
      "65     3\n",
      "66     3\n",
      "67     3\n",
      "61     2\n",
      "62     2\n",
      "72     1\n",
      "68     1\n",
      "69     1\n",
      "70     1\n",
      "81     1\n",
      "Name: Age, dtype: int64\n",
      "0    421\n",
      "1    217\n",
      "Name: Outcome, dtype: int64\n"
     ]
    }
   ],
   "source": [
    "for col in df.columns:\n",
    "    print(df[col].value_counts())"
   ]
  },
  {
   "cell_type": "code",
   "execution_count": 7,
   "metadata": {},
   "outputs": [],
   "source": [
    "# Do your magic!\n",
    "\n",
    "X = df.drop(columns = 'Outcome')\n",
    "y = df['Outcome']"
   ]
  },
  {
   "cell_type": "markdown",
   "metadata": {},
   "source": [
    "#### Logistic Regression + Pipeline"
   ]
  },
  {
   "cell_type": "code",
   "execution_count": 9,
   "metadata": {},
   "outputs": [],
   "source": [
    "from sklearn.pipeline import Pipeline\n",
    "from sklearn.preprocessing import StandardScaler, OneHotEncoder\n",
    "from sklearn.compose import ColumnTransformer\n",
    "from sklearn.linear_model import LogisticRegression\n",
    "from sklearn.model_selection import train_test_split"
   ]
  },
  {
   "cell_type": "code",
   "execution_count": 15,
   "metadata": {},
   "outputs": [
    {
     "ename": "SyntaxError",
     "evalue": "invalid syntax (<ipython-input-15-714202ad26ff>, line 10)",
     "output_type": "error",
     "traceback": [
      "\u001b[0;36m  File \u001b[0;32m\"<ipython-input-15-714202ad26ff>\"\u001b[0;36m, line \u001b[0;32m10\u001b[0m\n\u001b[0;31m    clf = Pipeline(steps=[('preprocessor', preprocessor),\u001b[0m\n\u001b[0m      ^\u001b[0m\n\u001b[0;31mSyntaxError\u001b[0m\u001b[0;31m:\u001b[0m invalid syntax\n"
     ]
    }
   ],
   "source": [
    "numeric_features = ['Pregnancies', 'Glucose', 'BloodPressure', 'SkinThickness', 'Insulin',\n",
    "       'BMI', 'DiabetesPedigreeFunction', 'Age', 'Outcome']\n",
    "numeric_transformer = Pipeline(steps=[\n",
    "    ('scaler', StandardScaler())])\n",
    "\n",
    "preprocessor = ColumnTransformer(transformers=[('num', numeric_transformer, numeric_features)]\n",
    "\n",
    "# Append classifier to preprocessing pipeline.\n",
    "# Now we have a full prediction pipeline.\n",
    "clf = Pipeline(steps=[('preprocessor', preprocessor),\n",
    "                      ('classifier', LogisticRegression())]) # penalty = 'l2', class_weight = 'balanced'\n",
    "\n",
    "X_train, X_test, y_train, y_test = train_test_split(X, y, test_size=0.2)\n",
    "\n",
    "clf.fit(X_train, y_train)\n",
    "print(\"model traing score: %.3f\" % clf.score(X_train, y_train))\n",
    "print(\"model test score: %.3f\" % clf.score(X_test, y_test))"
   ]
  },
  {
   "cell_type": "markdown",
   "metadata": {},
   "source": [
    "#### Random Forest"
   ]
  },
  {
   "cell_type": "code",
   "execution_count": 36,
   "metadata": {},
   "outputs": [],
   "source": [
    "from sklearn.ensemble import RandomForestClassifier\n",
    "from sklearn.metrics import roc_auc_score, plot_roc_curve"
   ]
  },
  {
   "cell_type": "code",
   "execution_count": 17,
   "metadata": {},
   "outputs": [],
   "source": [
    "clf = RandomForestClassifier(n_estimators=100,\n",
    "                             criterion='gini',\n",
    "                             max_features='auto',\n",
    "                             oob_score=True)"
   ]
  },
  {
   "cell_type": "code",
   "execution_count": 21,
   "metadata": {},
   "outputs": [],
   "source": [
    "X = df[['Glucose','Pregnancies','BMI']]\n",
    "y = df['Outcome']"
   ]
  },
  {
   "cell_type": "code",
   "execution_count": 32,
   "metadata": {},
   "outputs": [],
   "source": [
    "X_train, X_test, y_train, y_test = train_test_split(X, y, test_size=0.2)"
   ]
  },
  {
   "cell_type": "code",
   "execution_count": 33,
   "metadata": {},
   "outputs": [],
   "source": [
    "scaler = StandardScaler()\n",
    "X_train_ss = scaler.fit_transform(X_train)\n",
    "X_test_ss = scaler.transform(X_test)"
   ]
  },
  {
   "cell_type": "code",
   "execution_count": 34,
   "metadata": {},
   "outputs": [
    {
     "name": "stdout",
     "output_type": "stream",
     "text": [
      "0.9980392156862745\n",
      "0.7265625\n"
     ]
    }
   ],
   "source": [
    "clf.fit(X_train_ss, y_train)\n",
    "print(clf.score(X_train_ss, y_train))\n",
    "print(clf.score(X_test_ss, y_test))"
   ]
  },
  {
   "cell_type": "code",
   "execution_count": 37,
   "metadata": {},
   "outputs": [
    {
     "name": "stdout",
     "output_type": "stream",
     "text": [
      "Train ROC-AUC score:0.9999914477285167\n",
      "Test ROC-AUC score:0.7700410396716825\n"
     ]
    }
   ],
   "source": [
    "train_pred = clf.predict_proba(X_train_ss)\n",
    "test_pred = clf.predict_proba(X_test_ss)\n",
    "train_score = roc_auc_score(y_train, train_pred[:,1])\n",
    "test_score = roc_auc_score(y_test, test_pred[:,1])\n",
    "\n",
    "print(f'Train ROC-AUC score:{train_score}')\n",
    "print(f'Test ROC-AUC score:{test_score}')"
   ]
  },
  {
   "cell_type": "markdown",
   "metadata": {},
   "source": [
    "#### Grid Search + Decision Tree"
   ]
  },
  {
   "cell_type": "code",
   "execution_count": null,
   "metadata": {},
   "outputs": [],
   "source": [
    "from sklearn.ensemble import RandomForestClassifier"
   ]
  },
  {
   "cell_type": "code",
   "execution_count": null,
   "metadata": {},
   "outputs": [],
   "source": [
    "dt = DecisionTreeClassifier()\n",
    "grid_params = {\n",
    "    'max_depth': [3,4,5,6,7],\n",
    "    'max_features':['auto','sqrt', 'log2'],\n",
    "    'class_weight':[None, 'balanced'],\n",
    "    'criterion':['gini','entropy']\n",
    "}\n",
    "\n",
    "grid_search = GridSearchCV(dt, grid_params, cv=4, scoring='roc_auc')\n",
    "grid_search.fit(X_train, y_train)\n",
    "\n",
    "grid_search.best_estimator_ # best_params_\n",
    "\n",
    "dt_grid = grid_search.best_estimator_"
   ]
  },
  {
   "cell_type": "code",
   "execution_count": null,
   "metadata": {},
   "outputs": [],
   "source": []
  },
  {
   "cell_type": "code",
   "execution_count": null,
   "metadata": {},
   "outputs": [],
   "source": []
  },
  {
   "cell_type": "code",
   "execution_count": null,
   "metadata": {},
   "outputs": [],
   "source": []
  },
  {
   "cell_type": "code",
   "execution_count": 3,
   "metadata": {},
   "outputs": [],
   "source": [
    "# Then use your model to predict the outcomes of the holdout_df\n",
    "holdout_df = pd.read_csv('Diabetes_data/holdout_df.csv')"
   ]
  },
  {
   "cell_type": "code",
   "execution_count": 14,
   "metadata": {},
   "outputs": [],
   "source": [
    "# And store those outcomes in the 'Outcome' column of this submission_df \n",
    "submission_df = pd.read_csv('Diabetes_Data/submission_df.csv')"
   ]
  },
  {
   "cell_type": "code",
   "execution_count": null,
   "metadata": {},
   "outputs": [],
   "source": []
  }
 ],
 "metadata": {
  "kernelspec": {
   "display_name": "Python 3",
   "language": "python",
   "name": "python3"
  },
  "language_info": {
   "codemirror_mode": {
    "name": "ipython",
    "version": 3
   },
   "file_extension": ".py",
   "mimetype": "text/x-python",
   "name": "python",
   "nbconvert_exporter": "python",
   "pygments_lexer": "ipython3",
   "version": "3.7.6"
  }
 },
 "nbformat": 4,
 "nbformat_minor": 4
}

{
 "cells": [
  {
   "cell_type": "markdown",
   "metadata": {},
   "source": [
    "What if we wanted to use continue and break to stop the program if an item costs more than **$10** ?"
   ]
  },
  {
   "cell_type": "code",
   "execution_count": 1,
   "metadata": {},
   "outputs": [
    {
     "data": {
      "text/plain": [
       "{'cheese': 2.79,\n",
       " 'whole milk': 3.42,\n",
       " 'kefir': 4.5,\n",
       " 'tofu four-pack': 12.0,\n",
       " 'kale': 2.75,\n",
       " 'oranges': 3.64,\n",
       " 'ham': 25.0,\n",
       " \"ben & jerry's\": 5.29}"
      ]
     },
     "execution_count": 1,
     "metadata": {},
     "output_type": "execute_result"
    }
   ],
   "source": [
    "items = ['cheese', 'whole milk', 'kefir', 'tofu four-pack', 'kale', 'oranges', 'ham', 'ben & jerry\\'s']\n",
    "costs = [2.79, 3.42, 4.50, 12.00, 2.75, 3.64, 25.00, 5.29]\n",
    "\n",
    "shopping_list = dict(zip(items, costs))\n",
    "shopping_list"
   ]
  },
  {
   "cell_type": "code",
   "execution_count": 2,
   "metadata": {},
   "outputs": [
    {
     "name": "stdout",
     "output_type": "stream",
     "text": [
      " - [] cheese:$2.79\n",
      " - [] whole milk:$3.42\n",
      " - [] kefir:$4.50\n",
      " - [] kale:$2.75\n",
      " - [] oranges:$3.64\n",
      " - [] ben & jerry's:$5.29\n",
      "Total Bill: $22.39\n"
     ]
    }
   ],
   "source": [
    "total_bill = 0\n",
    "for item, cost in shopping_list.items():\n",
    "    if cost > 10:\n",
    "        continue\n",
    "    total_bill += cost\n",
    "    print (f' - [] {item}:${cost:.2f}')\n",
    "print (f'Total Bill: ${total_bill}')"
   ]
  },
  {
   "cell_type": "markdown",
   "metadata": {},
   "source": [
    "### Nested Loops"
   ]
  },
  {
   "cell_type": "code",
   "execution_count": 3,
   "metadata": {},
   "outputs": [
    {
     "name": "stdout",
     "output_type": "stream",
     "text": [
      "loop1: 1\n",
      "loop2--- 1\n",
      "loop2--- 2\n",
      "loop2--- 3\n",
      "loop2--- 4\n",
      "loop2--- 5\n",
      "loop1: 2\n",
      "loop2--- 1\n",
      "loop2--- 2\n",
      "loop2--- 3\n",
      "loop2--- 4\n",
      "loop2--- 5\n",
      "loop1: 3\n",
      "loop2--- 1\n",
      "loop2--- 2\n",
      "loop2--- 3\n",
      "loop2--- 4\n",
      "loop2--- 5\n",
      "loop1: 4\n",
      "loop2--- 1\n",
      "loop2--- 2\n",
      "loop2--- 3\n",
      "loop2--- 4\n",
      "loop2--- 5\n",
      "loop1: 5\n",
      "loop2--- 1\n",
      "loop2--- 2\n",
      "loop2--- 3\n",
      "loop2--- 4\n",
      "loop2--- 5\n"
     ]
    }
   ],
   "source": [
    "list2 = [1, 2, 3, 4, 5]\n",
    "\n",
    "for x in list2:\n",
    "    print('loop1:', x)\n",
    "    for y in list2:\n",
    "        print('loop2---', y)"
   ]
  },
  {
   "cell_type": "markdown",
   "metadata": {},
   "source": [
    "What do you expect to see? Why?"
   ]
  },
  {
   "cell_type": "markdown",
   "metadata": {},
   "source": [
    "Here is a more robust shopping list of nested dictionaries:\n",
    "```python\n",
    "shopping_dict = {\n",
    "    'Groceries': {\n",
    "        'ben & jerrys': 5.29, 'cheese': 2.79, 'ham': 25.0, 'kale': 2.75,\n",
    "        'kefir': 4.5,'oranges': 3.64, 'tofu four-pack': 12.0,'whole milk': 3.42\n",
    "    },\n",
    "    'House supplies': {'toilet paper pack': 16.50, 'clorox spray': 6.43, 'kleenex': 2.50,},\n",
    "    'Pet supplies': {'Taste of the Wild': 65.20, 'squeaky toy': 4.50, 'duck feet': 8.45}}\n",
    "```\n",
    "\n",
    "write the nested for loops to print out each grocery list with its total\n",
    "\n",
    "_Hint_\n",
    "\n",
    "- use [this link](https://stackoverflow.com/a/45310389) for help in formatting the total to two decimal places"
   ]
  },
  {
   "cell_type": "code",
   "execution_count": 4,
   "metadata": {},
   "outputs": [],
   "source": [
    "shopping_dict = {\n",
    "    'Groceries': {\n",
    "        'ben & jerrys': 5.29, 'cheese': 2.79, 'ham': 25.0, 'kale': 2.75,\n",
    "        'kefir': 4.5,'oranges': 3.64, 'tofu four-pack': 12.0,'whole milk': 3.42\n",
    "    },\n",
    "    'House supplies': {'toilet paper pack': 16.50, 'clorox spray': 6.43, 'kleenex': 2.50,},\n",
    "    'Pet supplies': {'Taste of the Wild': 65.20, 'squeaky toy': 4.50, 'duck feet': 8.45}}"
   ]
  },
  {
   "cell_type": "code",
   "execution_count": 5,
   "metadata": {},
   "outputs": [
    {
     "name": "stdout",
     "output_type": "stream",
     "text": [
      "~~~~~~~~~\n",
      "Groceries\n",
      "~~~~~~~~~\n",
      " - [] ben & jerrys: $5.29\n",
      " - [] cheese: $2.79\n",
      " - [] ham: $25.00\n",
      " - [] kale: $2.75\n",
      " - [] kefir: $4.50\n",
      " - [] oranges: $3.64\n",
      " - [] tofu four-pack: $12.00\n",
      " - [] whole milk: $3.42\n",
      "~~~~~~~~~~~~~~\n",
      "House supplies\n",
      "~~~~~~~~~~~~~~\n",
      " - [] toilet paper pack: $16.50\n",
      " - [] clorox spray: $6.43\n",
      " - [] kleenex: $2.50\n",
      "~~~~~~~~~~~~\n",
      "Pet supplies\n",
      "~~~~~~~~~~~~\n",
      " - [] Taste of the Wild: $65.20\n",
      " - [] squeaky toy: $4.50\n",
      " - [] duck feet: $8.45\n"
     ]
    }
   ],
   "source": [
    "for category, cat_items in shopping_dict.items():\n",
    "    print('~'* len(category))\n",
    "    print(category)\n",
    "    print('~'* len(category))\n",
    "    for item, cost in cat_items.items():\n",
    "        print(f' - [] {item}: ${cost:.2f}')"
   ]
  },
  {
   "cell_type": "markdown",
   "metadata": {},
   "source": [
    "### Functions\n",
    "\n",
    "**Built-in functions** <br>\n",
    "Many useful functions are already built into Python:<br>\n",
    "\n",
    "`print()`: print the given string or variable's value<br>\n",
    "`type()`: returns the datatype of the argument<br>\n",
    "`len()`: returns the length of an array<br>\n",
    "`sum()`: returns the sum of the array's values<br>\n",
    "`min()`: returns the smallest member of an array <br>\n",
    "`max()`: returns the largest member of an array<br>\n",
    "\n",
    "\n",
    "**Writing your own functions**\n",
    "\n",
    "```python\n",
    "def sayHello():\n",
    "    print(\"Hello!\")\n",
    "```\n"
   ]
  },
  {
   "cell_type": "code",
   "execution_count": 6,
   "metadata": {},
   "outputs": [],
   "source": [
    "def sayHello():\n",
    "    print(\"Hello!\")"
   ]
  },
  {
   "cell_type": "markdown",
   "metadata": {},
   "source": [
    "Let's talk about arguments or parameters. Let's say we want to make this function more dynamic and print out whatever we want! How would we do that?\n",
    "```python\n",
    "def shout(phrase):\n",
    "    print(phrase + \"!!!\")\n",
    "shout(\"oh hai\")\n",
    "```"
   ]
  },
  {
   "cell_type": "code",
   "execution_count": 7,
   "metadata": {},
   "outputs": [
    {
     "name": "stdout",
     "output_type": "stream",
     "text": [
      "error!\n"
     ]
    }
   ],
   "source": [
    "def shout(phrase):\n",
    "    if not isinstance(phrase, str):\n",
    "        print(\"error!\")\n",
    "    if isinstance(phrase, str):\n",
    "        print (phrase + \"!!!\")\n",
    "    return\n",
    "\n",
    "shout(123)"
   ]
  },
  {
   "cell_type": "markdown",
   "metadata": {},
   "source": [
    "What if we don't pass in an argument? What happens?\n",
    "Maybe we can establish a default value for the argument in case it isn't passed in.\n",
    "\n",
    "```python\n",
    "def shout(phrase = \"oh hai\"):\n",
    "    print(phrase + \"!!!\")\n",
    "\n",
    "shout()\n",
    "shout(\"bye\")\n",
    "```"
   ]
  },
  {
   "cell_type": "code",
   "execution_count": 8,
   "metadata": {},
   "outputs": [],
   "source": [
    "def shout(phrase = \"oh hai\"):\n",
    "    print(phrase + \"!!!\")"
   ]
  },
  {
   "cell_type": "code",
   "execution_count": 9,
   "metadata": {},
   "outputs": [
    {
     "name": "stdout",
     "output_type": "stream",
     "text": [
      "oh hai!!!\n"
     ]
    }
   ],
   "source": [
    "shout()"
   ]
  },
  {
   "cell_type": "markdown",
   "metadata": {},
   "source": [
    "What if we wanted to run a function, take its output and put it in to another function?\n",
    "\n",
    "```python\n",
    "def add_one(number):\n",
    "    return number + 1\n",
    "\n",
    "def times_five(number):\n",
    "    return number * 5\n",
    "\n",
    "number_plus_one = add_one(1)\n",
    "answer = times_five(number_plus_one)\n",
    "print(answer)\n",
    "```\n",
    "\n",
    "What will the above code return?"
   ]
  },
  {
   "cell_type": "code",
   "execution_count": 10,
   "metadata": {},
   "outputs": [],
   "source": [
    "def add_one(number):\n",
    "    return number + 1\n",
    "\n",
    "def times_five(number):\n",
    "    return number * 5"
   ]
  },
  {
   "cell_type": "code",
   "execution_count": 11,
   "metadata": {},
   "outputs": [
    {
     "name": "stdout",
     "output_type": "stream",
     "text": [
      "10\n"
     ]
    }
   ],
   "source": [
    "number_plus_one = add_one(1)\n",
    "answer = times_five(number_plus_one)\n",
    "print(answer)"
   ]
  },
  {
   "cell_type": "code",
   "execution_count": 16,
   "metadata": {},
   "outputs": [],
   "source": [
    "def make_sentence (word1, word2, word3=None, word4=None):\n",
    "        my_sentence = f'My words are {word1} and {word2}.'\n",
    "        if word3:\n",
    "            my_sentence += f' I also have {word3}.'\n",
    "        if word4:\n",
    "            my_sentence += f' My last word is {word4}.'\n",
    "            \n",
    "        return my_sentence"
   ]
  },
  {
   "cell_type": "code",
   "execution_count": 17,
   "metadata": {},
   "outputs": [
    {
     "name": "stdout",
     "output_type": "stream",
     "text": [
      "My words are dog and cat. My last word is string.\n"
     ]
    }
   ],
   "source": [
    "print(make_sentence('dog','cat',word4='string'))"
   ]
  },
  {
   "cell_type": "code",
   "execution_count": 18,
   "metadata": {
    "scrolled": true
   },
   "outputs": [
    {
     "data": {
      "text/plain": [
       "0"
      ]
     },
     "execution_count": 18,
     "metadata": {},
     "output_type": "execute_result"
    }
   ],
   "source": [
    "2%2"
   ]
  },
  {
   "cell_type": "code",
   "execution_count": 19,
   "metadata": {},
   "outputs": [
    {
     "data": {
      "text/plain": [
       "1"
      ]
     },
     "execution_count": 19,
     "metadata": {},
     "output_type": "execute_result"
    }
   ],
   "source": [
    "7%2"
   ]
  },
  {
   "cell_type": "code",
   "execution_count": 23,
   "metadata": {},
   "outputs": [],
   "source": [
    "def asdf(some_number, scalar=6):\n",
    "    if some_number %2: # true when some_number is ODD\n",
    "        return 'ODDDDD'\n",
    "    else:\n",
    "        return some_number * scalar"
   ]
  },
  {
   "cell_type": "code",
   "execution_count": 24,
   "metadata": {},
   "outputs": [
    {
     "data": {
      "text/plain": [
       "600"
      ]
     },
     "execution_count": 24,
     "metadata": {},
     "output_type": "execute_result"
    }
   ],
   "source": [
    "asdf(100)"
   ]
  },
  {
   "cell_type": "markdown",
   "metadata": {},
   "source": [
    "Adapt your shopping list nested for-loop to be wrapped in a function you could call on any shopping list of nested dictionaries."
   ]
  },
  {
   "cell_type": "code",
   "execution_count": 26,
   "metadata": {},
   "outputs": [
    {
     "data": {
      "text/plain": [
       "{'Groceries': {'ben & jerrys': 5.29,\n",
       "  'cheese': 2.79,\n",
       "  'ham': 25.0,\n",
       "  'kale': 2.75,\n",
       "  'kefir': 4.5,\n",
       "  'oranges': 3.64,\n",
       "  'tofu four-pack': 12.0,\n",
       "  'whole milk': 3.42},\n",
       " 'House supplies': {'toilet paper pack': 16.5,\n",
       "  'clorox spray': 6.43,\n",
       "  'kleenex': 2.5},\n",
       " 'Pet supplies': {'Taste of the Wild': 65.2,\n",
       "  'squeaky toy': 4.5,\n",
       "  'duck feet': 8.45}}"
      ]
     },
     "execution_count": 26,
     "metadata": {},
     "output_type": "execute_result"
    }
   ],
   "source": [
    "shopping_dict"
   ]
  },
  {
   "cell_type": "code",
   "execution_count": 27,
   "metadata": {},
   "outputs": [],
   "source": [
    "def print_shopping_dicts (s_dict):\n",
    "    for category, cat_items in shopping_dict.items():\n",
    "        print('~'* len(category))\n",
    "        print(category)\n",
    "        print('~'* len(category))\n",
    "        for item, cost in cat_items.items():\n",
    "            print(f' - [] {item}: ${cost:.2f}')"
   ]
  },
  {
   "cell_type": "code",
   "execution_count": 28,
   "metadata": {},
   "outputs": [
    {
     "name": "stdout",
     "output_type": "stream",
     "text": [
      "~~~~~~~~~\n",
      "Groceries\n",
      "~~~~~~~~~\n",
      " - [] ben & jerrys: $5.29\n",
      " - [] cheese: $2.79\n",
      " - [] ham: $25.00\n",
      " - [] kale: $2.75\n",
      " - [] kefir: $4.50\n",
      " - [] oranges: $3.64\n",
      " - [] tofu four-pack: $12.00\n",
      " - [] whole milk: $3.42\n",
      "~~~~~~~~~~~~~~\n",
      "House supplies\n",
      "~~~~~~~~~~~~~~\n",
      " - [] toilet paper pack: $16.50\n",
      " - [] clorox spray: $6.43\n",
      " - [] kleenex: $2.50\n",
      "~~~~~~~~~~~~\n",
      "Pet supplies\n",
      "~~~~~~~~~~~~\n",
      " - [] Taste of the Wild: $65.20\n",
      " - [] squeaky toy: $4.50\n",
      " - [] duck feet: $8.45\n"
     ]
    }
   ],
   "source": [
    "x = print_shopping_dicts(shopping_dict)"
   ]
  },
  {
   "cell_type": "code",
   "execution_count": 29,
   "metadata": {},
   "outputs": [
    {
     "data": {
      "text/plain": [
       "int"
      ]
     },
     "execution_count": 29,
     "metadata": {},
     "output_type": "execute_result"
    }
   ],
   "source": [
    "type(x)"
   ]
  },
  {
   "cell_type": "code",
   "execution_count": 31,
   "metadata": {},
   "outputs": [
    {
     "data": {
      "text/plain": [
       "(140671192408944, 140671190564288, 140671192408944)"
      ]
     },
     "execution_count": 31,
     "metadata": {},
     "output_type": "execute_result"
    }
   ],
   "source": [
    "a = []\n",
    "b = []\n",
    "c = a\n",
    "\n",
    "id(a), id(b), id(c)"
   ]
  },
  {
   "cell_type": "code",
   "execution_count": 32,
   "metadata": {},
   "outputs": [
    {
     "data": {
      "text/plain": [
       "(140671192422112, 140671192422112)"
      ]
     },
     "execution_count": 32,
     "metadata": {},
     "output_type": "execute_result"
    }
   ],
   "source": [
    "id([\"same\"]), id([\"same\"])"
   ]
  },
  {
   "cell_type": "code",
   "execution_count": null,
   "metadata": {},
   "outputs": [],
   "source": []
  },
  {
   "cell_type": "markdown",
   "metadata": {},
   "source": [
    "### Mathematical Notation and Measures of Central Tendency \n",
    "\n",
    "median vs mode vs mean<br>\n",
    "What's the difference?\n",
    "\n",
    "\n",
    "```python\n",
    "samp_list = [1,1,1,1,2,2,2,3,3,10,44]\n",
    "```\n",
    "\n",
    "How could you write a for loop to calculate the mean?"
   ]
  },
  {
   "cell_type": "code",
   "execution_count": 34,
   "metadata": {},
   "outputs": [],
   "source": [
    "samp_list = [1, 1, 1, 1, 2, 2, 2, 3, 3, 10, 44]"
   ]
  },
  {
   "cell_type": "code",
   "execution_count": 37,
   "metadata": {},
   "outputs": [
    {
     "name": "stdout",
     "output_type": "stream",
     "text": [
      "6.363636363636363\n"
     ]
    }
   ],
   "source": [
    "running_total = 0\n",
    "for i, val in enumerate(samp_list):\n",
    "    running_total += val\n",
    "\n",
    "print(running_total / (i+1))"
   ]
  },
  {
   "cell_type": "code",
   "execution_count": null,
   "metadata": {},
   "outputs": [],
   "source": []
  },
  {
   "cell_type": "markdown",
   "metadata": {},
   "source": [
    "### Integration\n",
    "\n",
    "adapt your function to do the following:\n",
    "- stop the nested loop if a grocery total goes over $30\n",
    "- print out the average cost of per item in your cart"
   ]
  },
  {
   "cell_type": "markdown",
   "metadata": {},
   "source": [
    "## Jupyter Bonus\n",
    "\n",
    "This doesn't really fit in with the rest of Python 102, but Jupyter is incredibly flexible! Here are two examples of embedding beautiful LaTex scripting in a notebook."
   ]
  },
  {
   "cell_type": "code",
   "execution_count": 38,
   "metadata": {},
   "outputs": [
    {
     "data": {
      "text/latex": [
       "$$\\lim\\limits_{x \\to \\infty} \\exp(-x) = 0$$\n"
      ],
      "text/plain": [
       "<IPython.core.display.Latex object>"
      ]
     },
     "metadata": {},
     "output_type": "display_data"
    }
   ],
   "source": [
    "%%latex # this will make the entire cell LaTeX syntax\n",
    "$$\\lim\\limits_{x \\to \\infty} \\exp(-x) = 0$$"
   ]
  },
  {
   "cell_type": "code",
   "execution_count": 39,
   "metadata": {},
   "outputs": [
    {
     "data": {
      "text/latex": [
       "$\\displaystyle F(k) = \\int_{-\\infty}^{\\infty} f(x) e^{2\\pi i k} dx$"
      ],
      "text/plain": [
       "<IPython.core.display.Math object>"
      ]
     },
     "execution_count": 39,
     "metadata": {},
     "output_type": "execute_result"
    }
   ],
   "source": [
    "from IPython.display import Math\n",
    "# this imports a function called Math() in which you can pass in a raw string of LaTeX\n",
    "Math('F(k) = \\int_{-\\infty}^{\\infty} f(x) e^{2\\pi i k} dx')"
   ]
  },
  {
   "cell_type": "code",
   "execution_count": null,
   "metadata": {},
   "outputs": [],
   "source": []
  }
 ],
 "metadata": {
  "kernelspec": {
   "display_name": "Python 3",
   "language": "python",
   "name": "python3"
  },
  "language_info": {
   "codemirror_mode": {
    "name": "ipython",
    "version": 3
   },
   "file_extension": ".py",
   "mimetype": "text/x-python",
   "name": "python",
   "nbconvert_exporter": "python",
   "pygments_lexer": "ipython3",
   "version": "3.7.6"
  }
 },
 "nbformat": 4,
 "nbformat_minor": 2
}
